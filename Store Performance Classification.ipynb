{
 "cells": [
  {
   "cell_type": "markdown",
   "id": "3ddae5c9",
   "metadata": {},
   "source": [
    "# Machine Learning \n",
    "## Store Performance Classification\n",
    "### Project Objective: Develop classification models that will identify whether stores will perform well or poorly"
   ]
  },
  {
   "cell_type": "code",
   "execution_count": 1,
   "id": "50779c41",
   "metadata": {},
   "outputs": [],
   "source": [
    "import numpy as np\n",
    "import pandas as pd\n",
    "import matplotlib.pyplot as plt\n",
    "import seaborn as sns"
   ]
  },
  {
   "cell_type": "markdown",
   "id": "f2977c86",
   "metadata": {},
   "source": [
    "# Exploratory data analysis (EDA)"
   ]
  },
  {
   "cell_type": "code",
   "execution_count": 2,
   "id": "aab19b60",
   "metadata": {},
   "outputs": [
    {
     "data": {
      "text/html": [
       "<div>\n",
       "<style scoped>\n",
       "    .dataframe tbody tr th:only-of-type {\n",
       "        vertical-align: middle;\n",
       "    }\n",
       "\n",
       "    .dataframe tbody tr th {\n",
       "        vertical-align: top;\n",
       "    }\n",
       "\n",
       "    .dataframe thead th {\n",
       "        text-align: right;\n",
       "    }\n",
       "</style>\n",
       "<table border=\"1\" class=\"dataframe\">\n",
       "  <thead>\n",
       "    <tr style=\"text-align: right;\">\n",
       "      <th></th>\n",
       "      <th>Town</th>\n",
       "      <th>Country</th>\n",
       "      <th>Store ID</th>\n",
       "      <th>Manager name</th>\n",
       "      <th>Staff</th>\n",
       "      <th>Floor Space</th>\n",
       "      <th>Window</th>\n",
       "      <th>Car park</th>\n",
       "      <th>Demographic score</th>\n",
       "      <th>Location</th>\n",
       "      <th>40min population</th>\n",
       "      <th>30 min population</th>\n",
       "      <th>20 min population</th>\n",
       "      <th>10 min population</th>\n",
       "      <th>Store age</th>\n",
       "      <th>Clearance space</th>\n",
       "      <th>Competition number</th>\n",
       "      <th>Competition score</th>\n",
       "      <th>Performance</th>\n",
       "    </tr>\n",
       "  </thead>\n",
       "  <tbody>\n",
       "    <tr>\n",
       "      <th>0</th>\n",
       "      <td>Swinton (Greater Manchester)</td>\n",
       "      <td>UK</td>\n",
       "      <td>1437</td>\n",
       "      <td>Roger</td>\n",
       "      <td>9</td>\n",
       "      <td>18526</td>\n",
       "      <td>121</td>\n",
       "      <td>Yes</td>\n",
       "      <td>10</td>\n",
       "      <td>Retail Park</td>\n",
       "      <td>1288374</td>\n",
       "      <td>1138224</td>\n",
       "      <td>1006986</td>\n",
       "      <td>1002340</td>\n",
       "      <td>3</td>\n",
       "      <td>238</td>\n",
       "      <td>16</td>\n",
       "      <td>16</td>\n",
       "      <td>Good</td>\n",
       "    </tr>\n",
       "    <tr>\n",
       "      <th>1</th>\n",
       "      <td>Stamford</td>\n",
       "      <td>UK</td>\n",
       "      <td>1544</td>\n",
       "      <td>Ella</td>\n",
       "      <td>8</td>\n",
       "      <td>18569</td>\n",
       "      <td>121</td>\n",
       "      <td>Yes</td>\n",
       "      <td>11</td>\n",
       "      <td>Shopping Centre</td>\n",
       "      <td>1086225</td>\n",
       "      <td>1015321</td>\n",
       "      <td>1012182</td>\n",
       "      <td>1008436</td>\n",
       "      <td>4</td>\n",
       "      <td>384</td>\n",
       "      <td>15</td>\n",
       "      <td>19</td>\n",
       "      <td>Good</td>\n",
       "    </tr>\n",
       "    <tr>\n",
       "      <th>2</th>\n",
       "      <td>Skipton</td>\n",
       "      <td>UK</td>\n",
       "      <td>2039</td>\n",
       "      <td>Valentina</td>\n",
       "      <td>-2</td>\n",
       "      <td>12288</td>\n",
       "      <td>105</td>\n",
       "      <td>No</td>\n",
       "      <td>12</td>\n",
       "      <td>Retail Park</td>\n",
       "      <td>1595638</td>\n",
       "      <td>1281661</td>\n",
       "      <td>1104490</td>\n",
       "      <td>1011395</td>\n",
       "      <td>11</td>\n",
       "      <td>219</td>\n",
       "      <td>13</td>\n",
       "      <td>18</td>\n",
       "      <td>Bad</td>\n",
       "    </tr>\n",
       "    <tr>\n",
       "      <th>3</th>\n",
       "      <td>Stratton</td>\n",
       "      <td>UK</td>\n",
       "      <td>2055</td>\n",
       "      <td>Antonia</td>\n",
       "      <td>7</td>\n",
       "      <td>17092</td>\n",
       "      <td>117</td>\n",
       "      <td>No</td>\n",
       "      <td>14</td>\n",
       "      <td>High Street</td>\n",
       "      <td>1179395</td>\n",
       "      <td>1022959</td>\n",
       "      <td>1009496</td>\n",
       "      <td>1002169</td>\n",
       "      <td>5</td>\n",
       "      <td>261</td>\n",
       "      <td>15</td>\n",
       "      <td>12</td>\n",
       "      <td>Bad</td>\n",
       "    </tr>\n",
       "    <tr>\n",
       "      <th>4</th>\n",
       "      <td>Shepperton</td>\n",
       "      <td>UK</td>\n",
       "      <td>2141</td>\n",
       "      <td>Gabriel</td>\n",
       "      <td>7</td>\n",
       "      <td>11307</td>\n",
       "      <td>103</td>\n",
       "      <td>No</td>\n",
       "      <td>18</td>\n",
       "      <td>Retail Park</td>\n",
       "      <td>1398558</td>\n",
       "      <td>1085170</td>\n",
       "      <td>1003137</td>\n",
       "      <td>1002513</td>\n",
       "      <td>7</td>\n",
       "      <td>200</td>\n",
       "      <td>19</td>\n",
       "      <td>13</td>\n",
       "      <td>Bad</td>\n",
       "    </tr>\n",
       "  </tbody>\n",
       "</table>\n",
       "</div>"
      ],
      "text/plain": [
       "                            Town Country  Store ID Manager name  Staff  \\\n",
       "0   Swinton (Greater Manchester)      UK      1437        Roger      9   \n",
       "1                       Stamford      UK      1544         Ella      8   \n",
       "2                        Skipton      UK      2039    Valentina     -2   \n",
       "3                       Stratton      UK      2055      Antonia      7   \n",
       "4                     Shepperton      UK      2141      Gabriel      7   \n",
       "\n",
       "   Floor Space  Window Car park  Demographic score         Location  \\\n",
       "0        18526     121      Yes                 10      Retail Park   \n",
       "1        18569     121      Yes                 11  Shopping Centre   \n",
       "2        12288     105       No                 12      Retail Park   \n",
       "3        17092     117       No                 14      High Street   \n",
       "4        11307     103       No                 18      Retail Park   \n",
       "\n",
       "   40min population  30 min population  20 min population  10 min population  \\\n",
       "0           1288374            1138224            1006986            1002340   \n",
       "1           1086225            1015321            1012182            1008436   \n",
       "2           1595638            1281661            1104490            1011395   \n",
       "3           1179395            1022959            1009496            1002169   \n",
       "4           1398558            1085170            1003137            1002513   \n",
       "\n",
       "   Store age  Clearance space  Competition number  Competition score  \\\n",
       "0          3              238                  16                 16   \n",
       "1          4              384                  15                 19   \n",
       "2         11              219                  13                 18   \n",
       "3          5              261                  15                 12   \n",
       "4          7              200                  19                 13   \n",
       "\n",
       "  Performance  \n",
       "0        Good  \n",
       "1        Good  \n",
       "2         Bad  \n",
       "3         Bad  \n",
       "4         Bad  "
      ]
     },
     "execution_count": 2,
     "metadata": {},
     "output_type": "execute_result"
    }
   ],
   "source": [
    "#display the first five rows of the Data set using the head() method\n",
    "data = pd.read_csv(\"storedata.csv\")\n",
    "data.head()"
   ]
  },
  {
   "cell_type": "code",
   "execution_count": 3,
   "id": "9f7f009e",
   "metadata": {},
   "outputs": [
    {
     "name": "stdout",
     "output_type": "stream",
     "text": [
      "<class 'pandas.core.frame.DataFrame'>\n",
      "RangeIndex: 136 entries, 0 to 135\n",
      "Data columns (total 19 columns):\n",
      " #   Column              Non-Null Count  Dtype \n",
      "---  ------              --------------  ----- \n",
      " 0   Town                136 non-null    object\n",
      " 1   Country             136 non-null    object\n",
      " 2   Store ID            136 non-null    int64 \n",
      " 3   Manager name        136 non-null    object\n",
      " 4   Staff               136 non-null    int64 \n",
      " 5   Floor Space         136 non-null    int64 \n",
      " 6   Window              136 non-null    int64 \n",
      " 7   Car park            136 non-null    object\n",
      " 8   Demographic score   136 non-null    int64 \n",
      " 9   Location            136 non-null    object\n",
      " 10  40min population    136 non-null    int64 \n",
      " 11  30 min population   136 non-null    int64 \n",
      " 12  20 min population   136 non-null    int64 \n",
      " 13  10 min population   136 non-null    int64 \n",
      " 14  Store age           136 non-null    int64 \n",
      " 15  Clearance space     136 non-null    int64 \n",
      " 16  Competition number  136 non-null    int64 \n",
      " 17  Competition score   136 non-null    int64 \n",
      " 18  Performance         136 non-null    object\n",
      "dtypes: int64(13), object(6)\n",
      "memory usage: 20.3+ KB\n"
     ]
    }
   ],
   "source": [
    "#information of the data set\n",
    "data.info()"
   ]
  },
  {
   "cell_type": "code",
   "execution_count": 4,
   "id": "6032f0de",
   "metadata": {},
   "outputs": [
    {
     "data": {
      "text/html": [
       "<div>\n",
       "<style scoped>\n",
       "    .dataframe tbody tr th:only-of-type {\n",
       "        vertical-align: middle;\n",
       "    }\n",
       "\n",
       "    .dataframe tbody tr th {\n",
       "        vertical-align: top;\n",
       "    }\n",
       "\n",
       "    .dataframe thead th {\n",
       "        text-align: right;\n",
       "    }\n",
       "</style>\n",
       "<table border=\"1\" class=\"dataframe\">\n",
       "  <thead>\n",
       "    <tr style=\"text-align: right;\">\n",
       "      <th></th>\n",
       "      <th>Store ID</th>\n",
       "      <th>Staff</th>\n",
       "      <th>Floor Space</th>\n",
       "      <th>Window</th>\n",
       "      <th>Demographic score</th>\n",
       "      <th>40min population</th>\n",
       "      <th>30 min population</th>\n",
       "      <th>20 min population</th>\n",
       "      <th>10 min population</th>\n",
       "      <th>Store age</th>\n",
       "      <th>Clearance space</th>\n",
       "      <th>Competition number</th>\n",
       "      <th>Competition score</th>\n",
       "    </tr>\n",
       "  </thead>\n",
       "  <tbody>\n",
       "    <tr>\n",
       "      <th>0</th>\n",
       "      <td>1437</td>\n",
       "      <td>9</td>\n",
       "      <td>18526</td>\n",
       "      <td>121</td>\n",
       "      <td>10</td>\n",
       "      <td>1288374</td>\n",
       "      <td>1138224</td>\n",
       "      <td>1006986</td>\n",
       "      <td>1002340</td>\n",
       "      <td>3</td>\n",
       "      <td>238</td>\n",
       "      <td>16</td>\n",
       "      <td>16</td>\n",
       "    </tr>\n",
       "    <tr>\n",
       "      <th>1</th>\n",
       "      <td>1544</td>\n",
       "      <td>8</td>\n",
       "      <td>18569</td>\n",
       "      <td>121</td>\n",
       "      <td>11</td>\n",
       "      <td>1086225</td>\n",
       "      <td>1015321</td>\n",
       "      <td>1012182</td>\n",
       "      <td>1008436</td>\n",
       "      <td>4</td>\n",
       "      <td>384</td>\n",
       "      <td>15</td>\n",
       "      <td>19</td>\n",
       "    </tr>\n",
       "    <tr>\n",
       "      <th>2</th>\n",
       "      <td>2039</td>\n",
       "      <td>-2</td>\n",
       "      <td>12288</td>\n",
       "      <td>105</td>\n",
       "      <td>12</td>\n",
       "      <td>1595638</td>\n",
       "      <td>1281661</td>\n",
       "      <td>1104490</td>\n",
       "      <td>1011395</td>\n",
       "      <td>11</td>\n",
       "      <td>219</td>\n",
       "      <td>13</td>\n",
       "      <td>18</td>\n",
       "    </tr>\n",
       "    <tr>\n",
       "      <th>3</th>\n",
       "      <td>2055</td>\n",
       "      <td>7</td>\n",
       "      <td>17092</td>\n",
       "      <td>117</td>\n",
       "      <td>14</td>\n",
       "      <td>1179395</td>\n",
       "      <td>1022959</td>\n",
       "      <td>1009496</td>\n",
       "      <td>1002169</td>\n",
       "      <td>5</td>\n",
       "      <td>261</td>\n",
       "      <td>15</td>\n",
       "      <td>12</td>\n",
       "    </tr>\n",
       "    <tr>\n",
       "      <th>4</th>\n",
       "      <td>2141</td>\n",
       "      <td>7</td>\n",
       "      <td>11307</td>\n",
       "      <td>103</td>\n",
       "      <td>18</td>\n",
       "      <td>1398558</td>\n",
       "      <td>1085170</td>\n",
       "      <td>1003137</td>\n",
       "      <td>1002513</td>\n",
       "      <td>7</td>\n",
       "      <td>200</td>\n",
       "      <td>19</td>\n",
       "      <td>13</td>\n",
       "    </tr>\n",
       "    <tr>\n",
       "      <th>...</th>\n",
       "      <td>...</td>\n",
       "      <td>...</td>\n",
       "      <td>...</td>\n",
       "      <td>...</td>\n",
       "      <td>...</td>\n",
       "      <td>...</td>\n",
       "      <td>...</td>\n",
       "      <td>...</td>\n",
       "      <td>...</td>\n",
       "      <td>...</td>\n",
       "      <td>...</td>\n",
       "      <td>...</td>\n",
       "      <td>...</td>\n",
       "    </tr>\n",
       "    <tr>\n",
       "      <th>131</th>\n",
       "      <td>96853</td>\n",
       "      <td>7</td>\n",
       "      <td>14120</td>\n",
       "      <td>110</td>\n",
       "      <td>13</td>\n",
       "      <td>1665074</td>\n",
       "      <td>1240813</td>\n",
       "      <td>1141898</td>\n",
       "      <td>1041041</td>\n",
       "      <td>6</td>\n",
       "      <td>202</td>\n",
       "      <td>18</td>\n",
       "      <td>14</td>\n",
       "    </tr>\n",
       "    <tr>\n",
       "      <th>132</th>\n",
       "      <td>96858</td>\n",
       "      <td>6</td>\n",
       "      <td>11205</td>\n",
       "      <td>103</td>\n",
       "      <td>15</td>\n",
       "      <td>1657769</td>\n",
       "      <td>1424404</td>\n",
       "      <td>1378708</td>\n",
       "      <td>1160929</td>\n",
       "      <td>5</td>\n",
       "      <td>203</td>\n",
       "      <td>13</td>\n",
       "      <td>18</td>\n",
       "    </tr>\n",
       "    <tr>\n",
       "      <th>133</th>\n",
       "      <td>98062</td>\n",
       "      <td>7</td>\n",
       "      <td>16190</td>\n",
       "      <td>115</td>\n",
       "      <td>19</td>\n",
       "      <td>1407456</td>\n",
       "      <td>1359511</td>\n",
       "      <td>1200486</td>\n",
       "      <td>1063718</td>\n",
       "      <td>7</td>\n",
       "      <td>341</td>\n",
       "      <td>18</td>\n",
       "      <td>18</td>\n",
       "    </tr>\n",
       "    <tr>\n",
       "      <th>134</th>\n",
       "      <td>98923</td>\n",
       "      <td>6</td>\n",
       "      <td>15516</td>\n",
       "      <td>113</td>\n",
       "      <td>17</td>\n",
       "      <td>1451087</td>\n",
       "      <td>1245725</td>\n",
       "      <td>1127276</td>\n",
       "      <td>1045154</td>\n",
       "      <td>11</td>\n",
       "      <td>261</td>\n",
       "      <td>14</td>\n",
       "      <td>10</td>\n",
       "    </tr>\n",
       "    <tr>\n",
       "      <th>135</th>\n",
       "      <td>99854</td>\n",
       "      <td>9</td>\n",
       "      <td>14468</td>\n",
       "      <td>111</td>\n",
       "      <td>18</td>\n",
       "      <td>1706344</td>\n",
       "      <td>1307752</td>\n",
       "      <td>1159859</td>\n",
       "      <td>1020940</td>\n",
       "      <td>8</td>\n",
       "      <td>276</td>\n",
       "      <td>18</td>\n",
       "      <td>13</td>\n",
       "    </tr>\n",
       "  </tbody>\n",
       "</table>\n",
       "<p>136 rows × 13 columns</p>\n",
       "</div>"
      ],
      "text/plain": [
       "     Store ID  Staff  Floor Space  Window  Demographic score  \\\n",
       "0        1437      9        18526     121                 10   \n",
       "1        1544      8        18569     121                 11   \n",
       "2        2039     -2        12288     105                 12   \n",
       "3        2055      7        17092     117                 14   \n",
       "4        2141      7        11307     103                 18   \n",
       "..        ...    ...          ...     ...                ...   \n",
       "131     96853      7        14120     110                 13   \n",
       "132     96858      6        11205     103                 15   \n",
       "133     98062      7        16190     115                 19   \n",
       "134     98923      6        15516     113                 17   \n",
       "135     99854      9        14468     111                 18   \n",
       "\n",
       "     40min population  30 min population  20 min population  \\\n",
       "0             1288374            1138224            1006986   \n",
       "1             1086225            1015321            1012182   \n",
       "2             1595638            1281661            1104490   \n",
       "3             1179395            1022959            1009496   \n",
       "4             1398558            1085170            1003137   \n",
       "..                ...                ...                ...   \n",
       "131           1665074            1240813            1141898   \n",
       "132           1657769            1424404            1378708   \n",
       "133           1407456            1359511            1200486   \n",
       "134           1451087            1245725            1127276   \n",
       "135           1706344            1307752            1159859   \n",
       "\n",
       "     10 min population  Store age  Clearance space  Competition number  \\\n",
       "0              1002340          3              238                  16   \n",
       "1              1008436          4              384                  15   \n",
       "2              1011395         11              219                  13   \n",
       "3              1002169          5              261                  15   \n",
       "4              1002513          7              200                  19   \n",
       "..                 ...        ...              ...                 ...   \n",
       "131            1041041          6              202                  18   \n",
       "132            1160929          5              203                  13   \n",
       "133            1063718          7              341                  18   \n",
       "134            1045154         11              261                  14   \n",
       "135            1020940          8              276                  18   \n",
       "\n",
       "     Competition score  \n",
       "0                   16  \n",
       "1                   19  \n",
       "2                   18  \n",
       "3                   12  \n",
       "4                   13  \n",
       "..                 ...  \n",
       "131                 14  \n",
       "132                 18  \n",
       "133                 18  \n",
       "134                 10  \n",
       "135                 13  \n",
       "\n",
       "[136 rows x 13 columns]"
      ]
     },
     "execution_count": 4,
     "metadata": {},
     "output_type": "execute_result"
    }
   ],
   "source": [
    "# select all integer columns\n",
    "num_cols = data.select_dtypes(\"int\")\n",
    "\n",
    "# print the selected columns\n",
    "num_cols"
   ]
  },
  {
   "cell_type": "code",
   "execution_count": 5,
   "id": "dd817c1f",
   "metadata": {},
   "outputs": [
    {
     "data": {
      "text/html": [
       "<div>\n",
       "<style scoped>\n",
       "    .dataframe tbody tr th:only-of-type {\n",
       "        vertical-align: middle;\n",
       "    }\n",
       "\n",
       "    .dataframe tbody tr th {\n",
       "        vertical-align: top;\n",
       "    }\n",
       "\n",
       "    .dataframe thead th {\n",
       "        text-align: right;\n",
       "    }\n",
       "</style>\n",
       "<table border=\"1\" class=\"dataframe\">\n",
       "  <thead>\n",
       "    <tr style=\"text-align: right;\">\n",
       "      <th></th>\n",
       "      <th>Town</th>\n",
       "      <th>Country</th>\n",
       "      <th>Manager name</th>\n",
       "      <th>Car park</th>\n",
       "      <th>Location</th>\n",
       "      <th>Performance</th>\n",
       "    </tr>\n",
       "  </thead>\n",
       "  <tbody>\n",
       "    <tr>\n",
       "      <th>0</th>\n",
       "      <td>Swinton (Greater Manchester)</td>\n",
       "      <td>UK</td>\n",
       "      <td>Roger</td>\n",
       "      <td>Yes</td>\n",
       "      <td>Retail Park</td>\n",
       "      <td>Good</td>\n",
       "    </tr>\n",
       "    <tr>\n",
       "      <th>1</th>\n",
       "      <td>Stamford</td>\n",
       "      <td>UK</td>\n",
       "      <td>Ella</td>\n",
       "      <td>Yes</td>\n",
       "      <td>Shopping Centre</td>\n",
       "      <td>Good</td>\n",
       "    </tr>\n",
       "    <tr>\n",
       "      <th>2</th>\n",
       "      <td>Skipton</td>\n",
       "      <td>UK</td>\n",
       "      <td>Valentina</td>\n",
       "      <td>No</td>\n",
       "      <td>Retail Park</td>\n",
       "      <td>Bad</td>\n",
       "    </tr>\n",
       "    <tr>\n",
       "      <th>3</th>\n",
       "      <td>Stratton</td>\n",
       "      <td>UK</td>\n",
       "      <td>Antonia</td>\n",
       "      <td>No</td>\n",
       "      <td>High Street</td>\n",
       "      <td>Bad</td>\n",
       "    </tr>\n",
       "    <tr>\n",
       "      <th>4</th>\n",
       "      <td>Shepperton</td>\n",
       "      <td>UK</td>\n",
       "      <td>Gabriel</td>\n",
       "      <td>No</td>\n",
       "      <td>Retail Park</td>\n",
       "      <td>Bad</td>\n",
       "    </tr>\n",
       "    <tr>\n",
       "      <th>...</th>\n",
       "      <td>...</td>\n",
       "      <td>...</td>\n",
       "      <td>...</td>\n",
       "      <td>...</td>\n",
       "      <td>...</td>\n",
       "      <td>...</td>\n",
       "    </tr>\n",
       "    <tr>\n",
       "      <th>131</th>\n",
       "      <td>South Benfleet</td>\n",
       "      <td>UK</td>\n",
       "      <td>Vit�ria</td>\n",
       "      <td>Yes</td>\n",
       "      <td>Retail Park</td>\n",
       "      <td>Bad</td>\n",
       "    </tr>\n",
       "    <tr>\n",
       "      <th>132</th>\n",
       "      <td>Sandy</td>\n",
       "      <td>UK</td>\n",
       "      <td>Mat�as</td>\n",
       "      <td>No</td>\n",
       "      <td>Shopping Centre</td>\n",
       "      <td>Bad</td>\n",
       "    </tr>\n",
       "    <tr>\n",
       "      <th>133</th>\n",
       "      <td>Sheerness</td>\n",
       "      <td>UK</td>\n",
       "      <td>Gustavo</td>\n",
       "      <td>No</td>\n",
       "      <td>Shopping Centre</td>\n",
       "      <td>Bad</td>\n",
       "    </tr>\n",
       "    <tr>\n",
       "      <th>134</th>\n",
       "      <td>Salford</td>\n",
       "      <td>UK</td>\n",
       "      <td>Rafael</td>\n",
       "      <td>No</td>\n",
       "      <td>High Street</td>\n",
       "      <td>Bad</td>\n",
       "    </tr>\n",
       "    <tr>\n",
       "      <th>135</th>\n",
       "      <td>Stapleford</td>\n",
       "      <td>UK</td>\n",
       "      <td>Lea</td>\n",
       "      <td>Yes</td>\n",
       "      <td>High Street</td>\n",
       "      <td>Good</td>\n",
       "    </tr>\n",
       "  </tbody>\n",
       "</table>\n",
       "<p>136 rows × 6 columns</p>\n",
       "</div>"
      ],
      "text/plain": [
       "                              Town Country Manager name Car park  \\\n",
       "0     Swinton (Greater Manchester)      UK        Roger      Yes   \n",
       "1                         Stamford      UK         Ella      Yes   \n",
       "2                          Skipton      UK    Valentina       No   \n",
       "3                         Stratton      UK      Antonia       No   \n",
       "4                       Shepperton      UK      Gabriel       No   \n",
       "..                             ...     ...          ...      ...   \n",
       "131                 South Benfleet      UK      Vit�ria      Yes   \n",
       "132                          Sandy      UK       Mat�as       No   \n",
       "133                      Sheerness      UK      Gustavo       No   \n",
       "134                        Salford      UK       Rafael       No   \n",
       "135                     Stapleford      UK          Lea      Yes   \n",
       "\n",
       "            Location Performance  \n",
       "0        Retail Park        Good  \n",
       "1    Shopping Centre        Good  \n",
       "2        Retail Park         Bad  \n",
       "3        High Street         Bad  \n",
       "4        Retail Park         Bad  \n",
       "..               ...         ...  \n",
       "131      Retail Park         Bad  \n",
       "132  Shopping Centre         Bad  \n",
       "133  Shopping Centre         Bad  \n",
       "134      High Street         Bad  \n",
       "135      High Street        Good  \n",
       "\n",
       "[136 rows x 6 columns]"
      ]
     },
     "execution_count": 5,
     "metadata": {},
     "output_type": "execute_result"
    }
   ],
   "source": [
    "# select all integer columns\n",
    "cat_cols = data.select_dtypes(\"object\")\n",
    "\n",
    "# print the selected columns\n",
    "cat_cols"
   ]
  },
  {
   "cell_type": "markdown",
   "id": "d2f2a160",
   "metadata": {},
   "source": [
    "I will now individually deal with the numerical columns and categorical columns, one at a time"
   ]
  },
  {
   "cell_type": "markdown",
   "id": "64e847ab",
   "metadata": {},
   "source": [
    "##### Starting with the numerical columns"
   ]
  },
  {
   "cell_type": "code",
   "execution_count": 6,
   "id": "edda4bba",
   "metadata": {},
   "outputs": [
    {
     "data": {
      "text/html": [
       "<div>\n",
       "<style scoped>\n",
       "    .dataframe tbody tr th:only-of-type {\n",
       "        vertical-align: middle;\n",
       "    }\n",
       "\n",
       "    .dataframe tbody tr th {\n",
       "        vertical-align: top;\n",
       "    }\n",
       "\n",
       "    .dataframe thead th {\n",
       "        text-align: right;\n",
       "    }\n",
       "</style>\n",
       "<table border=\"1\" class=\"dataframe\">\n",
       "  <thead>\n",
       "    <tr style=\"text-align: right;\">\n",
       "      <th></th>\n",
       "      <th>Store ID</th>\n",
       "      <th>Staff</th>\n",
       "      <th>Floor Space</th>\n",
       "      <th>Window</th>\n",
       "      <th>Demographic score</th>\n",
       "      <th>40min population</th>\n",
       "      <th>30 min population</th>\n",
       "      <th>20 min population</th>\n",
       "      <th>10 min population</th>\n",
       "      <th>Store age</th>\n",
       "      <th>Clearance space</th>\n",
       "      <th>Competition number</th>\n",
       "      <th>Competition score</th>\n",
       "    </tr>\n",
       "  </thead>\n",
       "  <tbody>\n",
       "    <tr>\n",
       "      <th>0</th>\n",
       "      <td>1437</td>\n",
       "      <td>9</td>\n",
       "      <td>18526</td>\n",
       "      <td>121</td>\n",
       "      <td>10</td>\n",
       "      <td>1288374</td>\n",
       "      <td>1138224</td>\n",
       "      <td>1006986</td>\n",
       "      <td>1002340</td>\n",
       "      <td>3</td>\n",
       "      <td>238</td>\n",
       "      <td>16</td>\n",
       "      <td>16</td>\n",
       "    </tr>\n",
       "    <tr>\n",
       "      <th>1</th>\n",
       "      <td>1544</td>\n",
       "      <td>8</td>\n",
       "      <td>18569</td>\n",
       "      <td>121</td>\n",
       "      <td>11</td>\n",
       "      <td>1086225</td>\n",
       "      <td>1015321</td>\n",
       "      <td>1012182</td>\n",
       "      <td>1008436</td>\n",
       "      <td>4</td>\n",
       "      <td>384</td>\n",
       "      <td>15</td>\n",
       "      <td>19</td>\n",
       "    </tr>\n",
       "    <tr>\n",
       "      <th>2</th>\n",
       "      <td>2039</td>\n",
       "      <td>-2</td>\n",
       "      <td>12288</td>\n",
       "      <td>105</td>\n",
       "      <td>12</td>\n",
       "      <td>1595638</td>\n",
       "      <td>1281661</td>\n",
       "      <td>1104490</td>\n",
       "      <td>1011395</td>\n",
       "      <td>11</td>\n",
       "      <td>219</td>\n",
       "      <td>13</td>\n",
       "      <td>18</td>\n",
       "    </tr>\n",
       "    <tr>\n",
       "      <th>3</th>\n",
       "      <td>2055</td>\n",
       "      <td>7</td>\n",
       "      <td>17092</td>\n",
       "      <td>117</td>\n",
       "      <td>14</td>\n",
       "      <td>1179395</td>\n",
       "      <td>1022959</td>\n",
       "      <td>1009496</td>\n",
       "      <td>1002169</td>\n",
       "      <td>5</td>\n",
       "      <td>261</td>\n",
       "      <td>15</td>\n",
       "      <td>12</td>\n",
       "    </tr>\n",
       "    <tr>\n",
       "      <th>4</th>\n",
       "      <td>2141</td>\n",
       "      <td>7</td>\n",
       "      <td>11307</td>\n",
       "      <td>103</td>\n",
       "      <td>18</td>\n",
       "      <td>1398558</td>\n",
       "      <td>1085170</td>\n",
       "      <td>1003137</td>\n",
       "      <td>1002513</td>\n",
       "      <td>7</td>\n",
       "      <td>200</td>\n",
       "      <td>19</td>\n",
       "      <td>13</td>\n",
       "    </tr>\n",
       "  </tbody>\n",
       "</table>\n",
       "</div>"
      ],
      "text/plain": [
       "   Store ID  Staff  Floor Space  Window  Demographic score  40min population  \\\n",
       "0      1437      9        18526     121                 10           1288374   \n",
       "1      1544      8        18569     121                 11           1086225   \n",
       "2      2039     -2        12288     105                 12           1595638   \n",
       "3      2055      7        17092     117                 14           1179395   \n",
       "4      2141      7        11307     103                 18           1398558   \n",
       "\n",
       "   30 min population  20 min population  10 min population  Store age  \\\n",
       "0            1138224            1006986            1002340          3   \n",
       "1            1015321            1012182            1008436          4   \n",
       "2            1281661            1104490            1011395         11   \n",
       "3            1022959            1009496            1002169          5   \n",
       "4            1085170            1003137            1002513          7   \n",
       "\n",
       "   Clearance space  Competition number  Competition score  \n",
       "0              238                  16                 16  \n",
       "1              384                  15                 19  \n",
       "2              219                  13                 18  \n",
       "3              261                  15                 12  \n",
       "4              200                  19                 13  "
      ]
     },
     "execution_count": 6,
     "metadata": {},
     "output_type": "execute_result"
    }
   ],
   "source": [
    "# displays the first five rows of the dataframe num_cols\n",
    "num_cols.head()"
   ]
  },
  {
   "cell_type": "code",
   "execution_count": 7,
   "id": "74fbe810",
   "metadata": {},
   "outputs": [
    {
     "name": "stdout",
     "output_type": "stream",
     "text": [
      "<class 'pandas.core.frame.DataFrame'>\n",
      "RangeIndex: 136 entries, 0 to 135\n",
      "Data columns (total 13 columns):\n",
      " #   Column              Non-Null Count  Dtype\n",
      "---  ------              --------------  -----\n",
      " 0   Store ID            136 non-null    int64\n",
      " 1   Staff               136 non-null    int64\n",
      " 2   Floor Space         136 non-null    int64\n",
      " 3   Window              136 non-null    int64\n",
      " 4   Demographic score   136 non-null    int64\n",
      " 5   40min population    136 non-null    int64\n",
      " 6   30 min population   136 non-null    int64\n",
      " 7   20 min population   136 non-null    int64\n",
      " 8   10 min population   136 non-null    int64\n",
      " 9   Store age           136 non-null    int64\n",
      " 10  Clearance space     136 non-null    int64\n",
      " 11  Competition number  136 non-null    int64\n",
      " 12  Competition score   136 non-null    int64\n",
      "dtypes: int64(13)\n",
      "memory usage: 13.9 KB\n"
     ]
    }
   ],
   "source": [
    "#displaying information about the \"num_cols\" variable\n",
    "num_cols.info()"
   ]
  },
  {
   "cell_type": "markdown",
   "id": "04762d92",
   "metadata": {},
   "source": [
    "There are 13 numerical columns in the dataset"
   ]
  },
  {
   "cell_type": "markdown",
   "id": "a6d78cf3",
   "metadata": {},
   "source": [
    "However, not all of the columns are relevant for this analysis and model building. Therefore, the following numerical columns will be removed:\n",
    "* Store ID\n",
    "\n",
    "Only Store ID was removed as it is a unique number for each of the stores and will have no real effect on the analysis and model building, these are considered as noise in a dataset"
   ]
  },
  {
   "cell_type": "markdown",
   "id": "d77fc56e",
   "metadata": {},
   "source": [
    "##### Staff"
   ]
  },
  {
   "cell_type": "code",
   "execution_count": 8,
   "id": "083d4825",
   "metadata": {
    "scrolled": true
   },
   "outputs": [
    {
     "data": {
      "text/plain": [
       " 7      29\n",
       " 5      29\n",
       " 6      29\n",
       " 9      28\n",
       " 8      18\n",
       "-2       1\n",
       " 300     1\n",
       " 600     1\n",
       "Name: Staff, dtype: int64"
      ]
     },
     "execution_count": 8,
     "metadata": {},
     "output_type": "execute_result"
    }
   ],
   "source": [
    "#counting the number of occurrences of each value in the column \"Staff\" in a dataset\n",
    "num_cols[\"Staff\"].value_counts()"
   ]
  },
  {
   "cell_type": "markdown",
   "id": "45cae7c1",
   "metadata": {},
   "source": [
    "It can be seen here that the numerical column staff has an instance where the number of staff is -2, this is not possible, in real sense and will be replaced with the number 2, for the purpose of this analysis and model building"
   ]
  },
  {
   "cell_type": "code",
   "execution_count": 9,
   "id": "bcc851d1",
   "metadata": {},
   "outputs": [],
   "source": [
    "num_cols[\"Staff\"] = num_cols[\"Staff\"].apply(abs)"
   ]
  },
  {
   "cell_type": "code",
   "execution_count": 10,
   "id": "151ea655",
   "metadata": {},
   "outputs": [
    {
     "data": {
      "text/plain": [
       "7      29\n",
       "5      29\n",
       "6      29\n",
       "9      28\n",
       "8      18\n",
       "2       1\n",
       "300     1\n",
       "600     1\n",
       "Name: Staff, dtype: int64"
      ]
     },
     "execution_count": 10,
     "metadata": {},
     "output_type": "execute_result"
    }
   ],
   "source": [
    "num_cols[\"Staff\"].value_counts()"
   ]
  },
  {
   "cell_type": "code",
   "execution_count": 11,
   "id": "aef24fea",
   "metadata": {
    "scrolled": true
   },
   "outputs": [
    {
     "data": {
      "image/png": "[encoded data removed]",
      "text/plain": [
       "<Figure size 2000x500 with 4 Axes>"
      ]
     },
     "metadata": {},
     "output_type": "display_data"
    }
   ],
   "source": [
    "#plotting a histogram of four columns of population data from a dataframe\n",
    "population_cols = [\"40min population\", \"30 min population\", \"20 min population\", \"10 min population\"]\n",
    "\n",
    "fig, ax = plt.subplots(ncols=4, figsize=(20,5), sharey=True)\n",
    "for idx, pop_col in enumerate(population_cols):\n",
    "    ax[idx].hist(num_cols[pop_col], color=\"g\")\n",
    "    ax[idx].set_xlabel(\"Population\")\n",
    "    ax[0].set_ylabel(\"Count of each Population\")\n",
    "    ax[idx].title.set_text(f\"Histogram plot of column {pop_col}\")\n",
    "plt.show()"
   ]
  },
  {
   "cell_type": "markdown",
   "id": "f9300e26",
   "metadata": {},
   "source": [
    "It can be seen from the histogram above that:\n",
    "* The plot of the 40 min population is almost a normal distribution\n",
    "* The plot of the other plots (30 min, 20 min and 10 min) are skewed to the left, with the smallest population being the most common"
   ]
  },
  {
   "cell_type": "code",
   "execution_count": 12,
   "id": "0c573d3f",
   "metadata": {},
   "outputs": [
    {
     "data": {
      "image/png": "[encoded data removed]",
      "text/plain": [
       "<Figure size 2000x500 with 4 Axes>"
      ]
     },
     "metadata": {},
     "output_type": "display_data"
    }
   ],
   "source": [
    "#creates a subplot with four columns and plots bar graphs of the population columns against the number of windows.\n",
    "fig, ax = plt.subplots(ncols=4, figsize=(20,5))\n",
    "for i, pop_col in enumerate(population_cols):\n",
    "    ax[i].bar(num_cols[\"Window\"],num_cols[pop_col])\n",
    "    ax[i].title.set_text(f\"{pop_col} vs Window\")\n",
    "    ax[i].set_xlabel(\"Number of windows\")\n",
    "    ax[0].set_ylabel(\"Population\")\n",
    "plt.show()"
   ]
  },
  {
   "cell_type": "markdown",
   "id": "91b059de",
   "metadata": {},
   "source": [
    "It can be observed from here that there may be no real connection between the number of windows in each store and the population for each of the recorded timeframe between (10 mins - 40 mins)"
   ]
  },
  {
   "cell_type": "markdown",
   "id": "8ebf7d9b",
   "metadata": {},
   "source": [
    "##### Now is the time to explore categorical columns"
   ]
  },
  {
   "cell_type": "code",
   "execution_count": 13,
   "id": "7e8198a3",
   "metadata": {},
   "outputs": [
    {
     "data": {
      "text/html": [
       "<div>\n",
       "<style scoped>\n",
       "    .dataframe tbody tr th:only-of-type {\n",
       "        vertical-align: middle;\n",
       "    }\n",
       "\n",
       "    .dataframe tbody tr th {\n",
       "        vertical-align: top;\n",
       "    }\n",
       "\n",
       "    .dataframe thead th {\n",
       "        text-align: right;\n",
       "    }\n",
       "</style>\n",
       "<table border=\"1\" class=\"dataframe\">\n",
       "  <thead>\n",
       "    <tr style=\"text-align: right;\">\n",
       "      <th></th>\n",
       "      <th>Town</th>\n",
       "      <th>Country</th>\n",
       "      <th>Manager name</th>\n",
       "      <th>Car park</th>\n",
       "      <th>Location</th>\n",
       "      <th>Performance</th>\n",
       "    </tr>\n",
       "  </thead>\n",
       "  <tbody>\n",
       "    <tr>\n",
       "      <th>0</th>\n",
       "      <td>Swinton (Greater Manchester)</td>\n",
       "      <td>UK</td>\n",
       "      <td>Roger</td>\n",
       "      <td>Yes</td>\n",
       "      <td>Retail Park</td>\n",
       "      <td>Good</td>\n",
       "    </tr>\n",
       "    <tr>\n",
       "      <th>1</th>\n",
       "      <td>Stamford</td>\n",
       "      <td>UK</td>\n",
       "      <td>Ella</td>\n",
       "      <td>Yes</td>\n",
       "      <td>Shopping Centre</td>\n",
       "      <td>Good</td>\n",
       "    </tr>\n",
       "    <tr>\n",
       "      <th>2</th>\n",
       "      <td>Skipton</td>\n",
       "      <td>UK</td>\n",
       "      <td>Valentina</td>\n",
       "      <td>No</td>\n",
       "      <td>Retail Park</td>\n",
       "      <td>Bad</td>\n",
       "    </tr>\n",
       "    <tr>\n",
       "      <th>3</th>\n",
       "      <td>Stratton</td>\n",
       "      <td>UK</td>\n",
       "      <td>Antonia</td>\n",
       "      <td>No</td>\n",
       "      <td>High Street</td>\n",
       "      <td>Bad</td>\n",
       "    </tr>\n",
       "    <tr>\n",
       "      <th>4</th>\n",
       "      <td>Shepperton</td>\n",
       "      <td>UK</td>\n",
       "      <td>Gabriel</td>\n",
       "      <td>No</td>\n",
       "      <td>Retail Park</td>\n",
       "      <td>Bad</td>\n",
       "    </tr>\n",
       "  </tbody>\n",
       "</table>\n",
       "</div>"
      ],
      "text/plain": [
       "                            Town Country Manager name Car park  \\\n",
       "0   Swinton (Greater Manchester)      UK        Roger      Yes   \n",
       "1                       Stamford      UK         Ella      Yes   \n",
       "2                        Skipton      UK    Valentina       No   \n",
       "3                       Stratton      UK      Antonia       No   \n",
       "4                     Shepperton      UK      Gabriel       No   \n",
       "\n",
       "          Location Performance  \n",
       "0      Retail Park        Good  \n",
       "1  Shopping Centre        Good  \n",
       "2      Retail Park         Bad  \n",
       "3      High Street         Bad  \n",
       "4      Retail Park         Bad  "
      ]
     },
     "execution_count": 13,
     "metadata": {},
     "output_type": "execute_result"
    }
   ],
   "source": [
    "#displaying the first five rows of a dataframe with categorical columns\n",
    "cat_cols.head()"
   ]
  },
  {
   "cell_type": "code",
   "execution_count": 14,
   "id": "2260ad75",
   "metadata": {},
   "outputs": [
    {
     "name": "stdout",
     "output_type": "stream",
     "text": [
      "<class 'pandas.core.frame.DataFrame'>\n",
      "RangeIndex: 136 entries, 0 to 135\n",
      "Data columns (total 6 columns):\n",
      " #   Column        Non-Null Count  Dtype \n",
      "---  ------        --------------  ----- \n",
      " 0   Town          136 non-null    object\n",
      " 1   Country       136 non-null    object\n",
      " 2   Manager name  136 non-null    object\n",
      " 3   Car park      136 non-null    object\n",
      " 4   Location      136 non-null    object\n",
      " 5   Performance   136 non-null    object\n",
      "dtypes: object(6)\n",
      "memory usage: 6.5+ KB\n"
     ]
    }
   ],
   "source": [
    "#displaying information about the categorical columns of the data set\n",
    "cat_cols.info()"
   ]
  },
  {
   "cell_type": "markdown",
   "id": "66f337a2",
   "metadata": {},
   "source": [
    "There are 6 categorical columns, making that a total of 19 columns in the dataset"
   ]
  },
  {
   "cell_type": "code",
   "execution_count": 15,
   "id": "76f0ffa3",
   "metadata": {},
   "outputs": [
    {
     "name": "stdout",
     "output_type": "stream",
     "text": [
      "There are 2 locations in the dataset\n",
      "\n",
      "Which are: ['UK' 'France']\n"
     ]
    }
   ],
   "source": [
    "num_country = cat_cols[\"Country\"].nunique() #Count the number of unique locations in the \"country\" column\n",
    "countries = cat_cols[\"Country\"].unique() # Get the names of the unique locations\n",
    "\n",
    "#Print the results\n",
    "print(f\"There are {num_country} locations in the dataset\\n\\nWhich are: {countries}\")"
   ]
  },
  {
   "cell_type": "markdown",
   "id": "29dbaae3",
   "metadata": {},
   "source": [
    "We can see that the shops are distributed in two countries, France and the United Kingdom, this may be important to the performance of the stores and sales are done differently in different countries"
   ]
  },
  {
   "cell_type": "code",
   "execution_count": 16,
   "id": "12114cbe",
   "metadata": {
    "scrolled": true
   },
   "outputs": [
    {
     "data": {
      "text/plain": [
       "UK        134\n",
       "France      2\n",
       "Name: Country, dtype: int64"
      ]
     },
     "execution_count": 16,
     "metadata": {},
     "output_type": "execute_result"
    }
   ],
   "source": [
    "# count the number of occurrences of each unique value in the \"country\" column\n",
    "cat_cols[\"Country\"].value_counts()"
   ]
  },
  {
   "cell_type": "markdown",
   "id": "906b1d93",
   "metadata": {},
   "source": [
    "Even though there are only two shops in France, we will still keep the column"
   ]
  },
  {
   "cell_type": "code",
   "execution_count": 17,
   "id": "7cfe6e9b",
   "metadata": {},
   "outputs": [
    {
     "data": {
      "text/plain": [
       "136"
      ]
     },
     "execution_count": 17,
     "metadata": {},
     "output_type": "execute_result"
    }
   ],
   "source": [
    "#count the number of unique values in column 'Town'\n",
    "cat_cols['Town'].nunique()"
   ]
  },
  {
   "cell_type": "markdown",
   "id": "5ea00ecc",
   "metadata": {},
   "source": [
    "There are 136 towns, which means that each town has exactly only one store. This column will really say nothing about the dataset other than the fact that some are peforming bad while some are not<br>\n",
    "\n",
    "Therefore I will drop this particular column `Town`"
   ]
  },
  {
   "cell_type": "markdown",
   "id": "b1dee33c",
   "metadata": {},
   "source": [
    "Also, the `Manager name` column has nothing to do with the performance of the store, hence, It will be dropped also"
   ]
  },
  {
   "cell_type": "markdown",
   "id": "acf12b00",
   "metadata": {},
   "source": [
    "The `Car park` column is important to our dataset, as people may prefer to go to others stores with car park for convinience."
   ]
  },
  {
   "cell_type": "code",
   "execution_count": 18,
   "id": "26f8aa73",
   "metadata": {},
   "outputs": [
    {
     "data": {
      "text/plain": [
       "Yes    94\n",
       "No     35\n",
       "Y       4\n",
       "N       3\n",
       "Name: Car park, dtype: int64"
      ]
     },
     "execution_count": 18,
     "metadata": {},
     "output_type": "execute_result"
    }
   ],
   "source": [
    "# count the number of occurrences of each unique value in the \"car park\" column\n",
    "cat_cols[\"Car park\"].value_counts()"
   ]
  },
  {
   "cell_type": "code",
   "execution_count": 19,
   "id": "2d14fc02",
   "metadata": {},
   "outputs": [
    {
     "data": {
      "image/png": "[encoded data removed]",
      "text/plain": [
       "<Figure size 640x480 with 1 Axes>"
      ]
     },
     "metadata": {},
     "output_type": "display_data"
    }
   ],
   "source": [
    "plt.hist(cat_cols[\"Car park\"]) # Plot a histogram of the \"car park\" column\n",
    "plt.title(\"Histogram plot of Car park column\")# Set the title of the plot\n",
    "plt.show() # Display the plot"
   ]
  },
  {
   "cell_type": "markdown",
   "id": "199f50fb",
   "metadata": {},
   "source": [
    "This column (`Car park`) is expected to have only two unique classes, but there are four, inluding \"Y\" and \"N\", which should also mean \"Yes\" and \"No\". I will clean that up to make them the same, as they should be"
   ]
  },
  {
   "cell_type": "code",
   "execution_count": 20,
   "id": "87b0a4c1",
   "metadata": {},
   "outputs": [],
   "source": [
    "def car_clean(clas):\n",
    "    if len(clas) == 1 and clas.startswith(\"Y\"):\n",
    "        n_clas = clas.replace(clas, \"Yes\")\n",
    "    elif len(clas) == 1 and clas.startswith(\"N\"):\n",
    "        n_clas = clas.replace(clas, \"No\")\n",
    "    else:\n",
    "        n_clas = clas\n",
    "    return n_clas"
   ]
  },
  {
   "cell_type": "code",
   "execution_count": 21,
   "id": "4455f61d",
   "metadata": {},
   "outputs": [],
   "source": [
    "cat_cols[\"Car park\"] = cat_cols[\"Car park\"].apply(car_clean)"
   ]
  },
  {
   "cell_type": "code",
   "execution_count": 22,
   "id": "9487a27a",
   "metadata": {},
   "outputs": [
    {
     "data": {
      "text/plain": [
       "Yes    98\n",
       "No     38\n",
       "Name: Car park, dtype: int64"
      ]
     },
     "execution_count": 22,
     "metadata": {},
     "output_type": "execute_result"
    }
   ],
   "source": [
    "cat_cols[\"Car park\"].value_counts()"
   ]
  },
  {
   "cell_type": "markdown",
   "id": "7606c9a2",
   "metadata": {},
   "source": [
    "Now that looks more like it. We now have the two unique classes we are supposed to have"
   ]
  },
  {
   "cell_type": "code",
   "execution_count": 23,
   "id": "c914e4d9",
   "metadata": {},
   "outputs": [
    {
     "data": {
      "text/plain": [
       "array(['Retail Park', 'Shopping Centre', 'High Street', 'Village'],\n",
       "      dtype=object)"
      ]
     },
     "execution_count": 23,
     "metadata": {},
     "output_type": "execute_result"
    }
   ],
   "source": [
    "cat_cols[\"Location\"].unique()"
   ]
  },
  {
   "cell_type": "markdown",
   "id": "39c76659",
   "metadata": {},
   "source": [
    "There are 4 unique Locations are each of the stores regardless of country and town can be in one of these four places:\n",
    "* Retail Park\n",
    "* Shopping Center\n",
    "* High Street\n",
    "* Village"
   ]
  },
  {
   "cell_type": "markdown",
   "id": "4a8337ca",
   "metadata": {},
   "source": [
    "Let's see how many of each of the Locations appears in the dataset"
   ]
  },
  {
   "cell_type": "code",
   "execution_count": 24,
   "id": "e9087fe1",
   "metadata": {},
   "outputs": [
    {
     "data": {
      "text/plain": [
       "Shopping Centre    52\n",
       "Retail Park        43\n",
       "High Street        40\n",
       "Village             1\n",
       "Name: Location, dtype: int64"
      ]
     },
     "execution_count": 24,
     "metadata": {},
     "output_type": "execute_result"
    }
   ],
   "source": [
    "cat_cols[\"Location\"].value_counts()"
   ]
  },
  {
   "cell_type": "markdown",
   "id": "511ad71c",
   "metadata": {},
   "source": [
    "This column is important as different Locations have different attractions to them"
   ]
  },
  {
   "cell_type": "markdown",
   "id": "d90564ec",
   "metadata": {},
   "source": [
    "Now, the `Performance` column<br>\n",
    "This is our target column and the machine learning models will be built to make predictions  on this column"
   ]
  },
  {
   "cell_type": "code",
   "execution_count": 25,
   "id": "8d3a1f1a",
   "metadata": {},
   "outputs": [
    {
     "data": {
      "text/plain": [
       "array(['Good', 'Bad'], dtype=object)"
      ]
     },
     "execution_count": 25,
     "metadata": {},
     "output_type": "execute_result"
    }
   ],
   "source": [
    "cat_cols[\"Performance\"].unique()"
   ]
  },
  {
   "cell_type": "markdown",
   "id": "39a8f8c5",
   "metadata": {},
   "source": [
    "This column is similar to the `Car park` column, as it has only two classes, \"Good\" and \"Bad\" and each instance can only be one the two classes<br>\n",
    "\n",
    "This shows that our problem is a \"Binary Classification\" problem"
   ]
  },
  {
   "cell_type": "code",
   "execution_count": 26,
   "id": "05910a7a",
   "metadata": {},
   "outputs": [
    {
     "data": {
      "text/plain": [
       "Good    69\n",
       "Bad     67\n",
       "Name: Performance, dtype: int64"
      ]
     },
     "execution_count": 26,
     "metadata": {},
     "output_type": "execute_result"
    }
   ],
   "source": [
    "cat_cols[\"Performance\"].value_counts()"
   ]
  },
  {
   "cell_type": "markdown",
   "id": "898c5f01",
   "metadata": {},
   "source": [
    "This is a pretty much balanced class with 69 instances of \"Good\" and 67 instances of \"Bad\".<br>\n",
    "The model should be able to predict well without bias."
   ]
  },
  {
   "cell_type": "markdown",
   "id": "0098c8b2",
   "metadata": {},
   "source": [
    "The next step is to do label encoding on the categorical columns so that we can then use them for the model training<br>\n",
    "\n",
    "A better explanation of this is to say, the `Car park` column with classes \"Yes\" and \"No\" is being represented with say 1 and 0 respectively."
   ]
  },
  {
   "cell_type": "markdown",
   "id": "1fe2d6f4",
   "metadata": {},
   "source": [
    "# Data preprocessing"
   ]
  },
  {
   "cell_type": "markdown",
   "id": "bccb974a",
   "metadata": {},
   "source": [
    "##### dropping\n",
    "Now is the time to drop all the irrelevant columns from both the numerical columns and categorical columns "
   ]
  },
  {
   "cell_type": "code",
   "execution_count": 27,
   "id": "8355389b",
   "metadata": {},
   "outputs": [],
   "source": [
    "num_cols = num_cols.drop([\"Store ID\"], axis=1)\n",
    "cat_cols = cat_cols.drop([\"Town\", \"Manager name\", \"Country\"], axis=1)"
   ]
  },
  {
   "cell_type": "code",
   "execution_count": 28,
   "id": "2b77d7cc",
   "metadata": {
    "scrolled": true
   },
   "outputs": [
    {
     "data": {
      "text/html": [
       "<div>\n",
       "<style scoped>\n",
       "    .dataframe tbody tr th:only-of-type {\n",
       "        vertical-align: middle;\n",
       "    }\n",
       "\n",
       "    .dataframe tbody tr th {\n",
       "        vertical-align: top;\n",
       "    }\n",
       "\n",
       "    .dataframe thead th {\n",
       "        text-align: right;\n",
       "    }\n",
       "</style>\n",
       "<table border=\"1\" class=\"dataframe\">\n",
       "  <thead>\n",
       "    <tr style=\"text-align: right;\">\n",
       "      <th></th>\n",
       "      <th>Staff</th>\n",
       "      <th>Floor Space</th>\n",
       "      <th>Window</th>\n",
       "      <th>Demographic score</th>\n",
       "      <th>40min population</th>\n",
       "      <th>30 min population</th>\n",
       "      <th>20 min population</th>\n",
       "      <th>10 min population</th>\n",
       "      <th>Store age</th>\n",
       "      <th>Clearance space</th>\n",
       "      <th>Competition number</th>\n",
       "      <th>Competition score</th>\n",
       "    </tr>\n",
       "  </thead>\n",
       "  <tbody>\n",
       "    <tr>\n",
       "      <th>0</th>\n",
       "      <td>9</td>\n",
       "      <td>18526</td>\n",
       "      <td>121</td>\n",
       "      <td>10</td>\n",
       "      <td>1288374</td>\n",
       "      <td>1138224</td>\n",
       "      <td>1006986</td>\n",
       "      <td>1002340</td>\n",
       "      <td>3</td>\n",
       "      <td>238</td>\n",
       "      <td>16</td>\n",
       "      <td>16</td>\n",
       "    </tr>\n",
       "    <tr>\n",
       "      <th>1</th>\n",
       "      <td>8</td>\n",
       "      <td>18569</td>\n",
       "      <td>121</td>\n",
       "      <td>11</td>\n",
       "      <td>1086225</td>\n",
       "      <td>1015321</td>\n",
       "      <td>1012182</td>\n",
       "      <td>1008436</td>\n",
       "      <td>4</td>\n",
       "      <td>384</td>\n",
       "      <td>15</td>\n",
       "      <td>19</td>\n",
       "    </tr>\n",
       "    <tr>\n",
       "      <th>2</th>\n",
       "      <td>2</td>\n",
       "      <td>12288</td>\n",
       "      <td>105</td>\n",
       "      <td>12</td>\n",
       "      <td>1595638</td>\n",
       "      <td>1281661</td>\n",
       "      <td>1104490</td>\n",
       "      <td>1011395</td>\n",
       "      <td>11</td>\n",
       "      <td>219</td>\n",
       "      <td>13</td>\n",
       "      <td>18</td>\n",
       "    </tr>\n",
       "    <tr>\n",
       "      <th>3</th>\n",
       "      <td>7</td>\n",
       "      <td>17092</td>\n",
       "      <td>117</td>\n",
       "      <td>14</td>\n",
       "      <td>1179395</td>\n",
       "      <td>1022959</td>\n",
       "      <td>1009496</td>\n",
       "      <td>1002169</td>\n",
       "      <td>5</td>\n",
       "      <td>261</td>\n",
       "      <td>15</td>\n",
       "      <td>12</td>\n",
       "    </tr>\n",
       "    <tr>\n",
       "      <th>4</th>\n",
       "      <td>7</td>\n",
       "      <td>11307</td>\n",
       "      <td>103</td>\n",
       "      <td>18</td>\n",
       "      <td>1398558</td>\n",
       "      <td>1085170</td>\n",
       "      <td>1003137</td>\n",
       "      <td>1002513</td>\n",
       "      <td>7</td>\n",
       "      <td>200</td>\n",
       "      <td>19</td>\n",
       "      <td>13</td>\n",
       "    </tr>\n",
       "  </tbody>\n",
       "</table>\n",
       "</div>"
      ],
      "text/plain": [
       "   Staff  Floor Space  Window  Demographic score  40min population  \\\n",
       "0      9        18526     121                 10           1288374   \n",
       "1      8        18569     121                 11           1086225   \n",
       "2      2        12288     105                 12           1595638   \n",
       "3      7        17092     117                 14           1179395   \n",
       "4      7        11307     103                 18           1398558   \n",
       "\n",
       "   30 min population  20 min population  10 min population  Store age  \\\n",
       "0            1138224            1006986            1002340          3   \n",
       "1            1015321            1012182            1008436          4   \n",
       "2            1281661            1104490            1011395         11   \n",
       "3            1022959            1009496            1002169          5   \n",
       "4            1085170            1003137            1002513          7   \n",
       "\n",
       "   Clearance space  Competition number  Competition score  \n",
       "0              238                  16                 16  \n",
       "1              384                  15                 19  \n",
       "2              219                  13                 18  \n",
       "3              261                  15                 12  \n",
       "4              200                  19                 13  "
      ]
     },
     "execution_count": 28,
     "metadata": {},
     "output_type": "execute_result"
    }
   ],
   "source": [
    "num_cols.head()"
   ]
  },
  {
   "cell_type": "code",
   "execution_count": 29,
   "id": "4dc958cb",
   "metadata": {
    "scrolled": true
   },
   "outputs": [
    {
     "data": {
      "text/html": [
       "<div>\n",
       "<style scoped>\n",
       "    .dataframe tbody tr th:only-of-type {\n",
       "        vertical-align: middle;\n",
       "    }\n",
       "\n",
       "    .dataframe tbody tr th {\n",
       "        vertical-align: top;\n",
       "    }\n",
       "\n",
       "    .dataframe thead th {\n",
       "        text-align: right;\n",
       "    }\n",
       "</style>\n",
       "<table border=\"1\" class=\"dataframe\">\n",
       "  <thead>\n",
       "    <tr style=\"text-align: right;\">\n",
       "      <th></th>\n",
       "      <th>Car park</th>\n",
       "      <th>Location</th>\n",
       "      <th>Performance</th>\n",
       "    </tr>\n",
       "  </thead>\n",
       "  <tbody>\n",
       "    <tr>\n",
       "      <th>0</th>\n",
       "      <td>Yes</td>\n",
       "      <td>Retail Park</td>\n",
       "      <td>Good</td>\n",
       "    </tr>\n",
       "    <tr>\n",
       "      <th>1</th>\n",
       "      <td>Yes</td>\n",
       "      <td>Shopping Centre</td>\n",
       "      <td>Good</td>\n",
       "    </tr>\n",
       "    <tr>\n",
       "      <th>2</th>\n",
       "      <td>No</td>\n",
       "      <td>Retail Park</td>\n",
       "      <td>Bad</td>\n",
       "    </tr>\n",
       "    <tr>\n",
       "      <th>3</th>\n",
       "      <td>No</td>\n",
       "      <td>High Street</td>\n",
       "      <td>Bad</td>\n",
       "    </tr>\n",
       "    <tr>\n",
       "      <th>4</th>\n",
       "      <td>No</td>\n",
       "      <td>Retail Park</td>\n",
       "      <td>Bad</td>\n",
       "    </tr>\n",
       "  </tbody>\n",
       "</table>\n",
       "</div>"
      ],
      "text/plain": [
       "  Car park         Location Performance\n",
       "0      Yes      Retail Park        Good\n",
       "1      Yes  Shopping Centre        Good\n",
       "2       No      Retail Park         Bad\n",
       "3       No      High Street         Bad\n",
       "4       No      Retail Park         Bad"
      ]
     },
     "execution_count": 29,
     "metadata": {},
     "output_type": "execute_result"
    }
   ],
   "source": [
    "cat_cols.head()"
   ]
  },
  {
   "cell_type": "markdown",
   "id": "e4495b8a",
   "metadata": {},
   "source": [
    "##### Label encoding the categorical columns"
   ]
  },
  {
   "cell_type": "code",
   "execution_count": 30,
   "id": "f48663f2",
   "metadata": {
    "scrolled": true
   },
   "outputs": [
    {
     "data": {
      "text/html": [
       "<div>\n",
       "<style scoped>\n",
       "    .dataframe tbody tr th:only-of-type {\n",
       "        vertical-align: middle;\n",
       "    }\n",
       "\n",
       "    .dataframe tbody tr th {\n",
       "        vertical-align: top;\n",
       "    }\n",
       "\n",
       "    .dataframe thead th {\n",
       "        text-align: right;\n",
       "    }\n",
       "</style>\n",
       "<table border=\"1\" class=\"dataframe\">\n",
       "  <thead>\n",
       "    <tr style=\"text-align: right;\">\n",
       "      <th></th>\n",
       "      <th>Car park</th>\n",
       "      <th>Location</th>\n",
       "      <th>Performance</th>\n",
       "    </tr>\n",
       "  </thead>\n",
       "  <tbody>\n",
       "    <tr>\n",
       "      <th>0</th>\n",
       "      <td>1</td>\n",
       "      <td>1</td>\n",
       "      <td>1</td>\n",
       "    </tr>\n",
       "    <tr>\n",
       "      <th>1</th>\n",
       "      <td>1</td>\n",
       "      <td>2</td>\n",
       "      <td>1</td>\n",
       "    </tr>\n",
       "    <tr>\n",
       "      <th>2</th>\n",
       "      <td>0</td>\n",
       "      <td>1</td>\n",
       "      <td>0</td>\n",
       "    </tr>\n",
       "    <tr>\n",
       "      <th>3</th>\n",
       "      <td>0</td>\n",
       "      <td>0</td>\n",
       "      <td>0</td>\n",
       "    </tr>\n",
       "    <tr>\n",
       "      <th>4</th>\n",
       "      <td>0</td>\n",
       "      <td>1</td>\n",
       "      <td>0</td>\n",
       "    </tr>\n",
       "  </tbody>\n",
       "</table>\n",
       "</div>"
      ],
      "text/plain": [
       "   Car park  Location  Performance\n",
       "0         1         1            1\n",
       "1         1         2            1\n",
       "2         0         1            0\n",
       "3         0         0            0\n",
       "4         0         1            0"
      ]
     },
     "execution_count": 30,
     "metadata": {},
     "output_type": "execute_result"
    }
   ],
   "source": [
    "from sklearn.preprocessing import LabelEncoder\n",
    "\n",
    "le = LabelEncoder() # create a LabelEncoder object\n",
    "cat_encoded = cat_cols.apply(le.fit_transform)\n",
    "cat_encoded.head()"
   ]
  },
  {
   "cell_type": "code",
   "execution_count": 31,
   "id": "b2123336",
   "metadata": {},
   "outputs": [],
   "source": [
    "from sklearn.preprocessing import StandardScaler\n",
    "scaler = StandardScaler() # create a StandardScaler object"
   ]
  },
  {
   "cell_type": "code",
   "execution_count": 32,
   "id": "218475b2",
   "metadata": {},
   "outputs": [],
   "source": [
    "# scale the numerical columns and create a new DataFrame\n",
    "num_encoded = pd.DataFrame(scaler.fit_transform(num_cols), columns=num_cols.columns)"
   ]
  },
  {
   "cell_type": "code",
   "execution_count": 33,
   "id": "06d35ebf",
   "metadata": {},
   "outputs": [
    {
     "data": {
      "text/html": [
       "<div>\n",
       "<style scoped>\n",
       "    .dataframe tbody tr th:only-of-type {\n",
       "        vertical-align: middle;\n",
       "    }\n",
       "\n",
       "    .dataframe tbody tr th {\n",
       "        vertical-align: top;\n",
       "    }\n",
       "\n",
       "    .dataframe thead th {\n",
       "        text-align: right;\n",
       "    }\n",
       "</style>\n",
       "<table border=\"1\" class=\"dataframe\">\n",
       "  <thead>\n",
       "    <tr style=\"text-align: right;\">\n",
       "      <th></th>\n",
       "      <th>Staff</th>\n",
       "      <th>Floor Space</th>\n",
       "      <th>Window</th>\n",
       "      <th>Demographic score</th>\n",
       "      <th>40min population</th>\n",
       "      <th>30 min population</th>\n",
       "      <th>20 min population</th>\n",
       "      <th>10 min population</th>\n",
       "      <th>Store age</th>\n",
       "      <th>Clearance space</th>\n",
       "      <th>Competition number</th>\n",
       "      <th>Competition score</th>\n",
       "    </tr>\n",
       "  </thead>\n",
       "  <tbody>\n",
       "    <tr>\n",
       "      <th>0</th>\n",
       "      <td>-0.077733</td>\n",
       "      <td>1.272666</td>\n",
       "      <td>1.305764</td>\n",
       "      <td>-1.558199</td>\n",
       "      <td>-0.712075</td>\n",
       "      <td>-0.518580</td>\n",
       "      <td>-0.859022</td>\n",
       "      <td>-0.720501</td>\n",
       "      <td>-1.258357</td>\n",
       "      <td>-0.473990</td>\n",
       "      <td>0.532708</td>\n",
       "      <td>0.404560</td>\n",
       "    </tr>\n",
       "    <tr>\n",
       "      <th>1</th>\n",
       "      <td>-0.095471</td>\n",
       "      <td>1.288293</td>\n",
       "      <td>1.305764</td>\n",
       "      <td>-1.209080</td>\n",
       "      <td>-1.435415</td>\n",
       "      <td>-1.089448</td>\n",
       "      <td>-0.824027</td>\n",
       "      <td>-0.651634</td>\n",
       "      <td>-0.901822</td>\n",
       "      <td>2.359104</td>\n",
       "      <td>0.186065</td>\n",
       "      <td>1.423453</td>\n",
       "    </tr>\n",
       "    <tr>\n",
       "      <th>2</th>\n",
       "      <td>-0.201897</td>\n",
       "      <td>-0.994355</td>\n",
       "      <td>-1.027030</td>\n",
       "      <td>-0.859962</td>\n",
       "      <td>0.387395</td>\n",
       "      <td>0.147665</td>\n",
       "      <td>-0.202337</td>\n",
       "      <td>-0.618206</td>\n",
       "      <td>1.593919</td>\n",
       "      <td>-0.842680</td>\n",
       "      <td>-0.507219</td>\n",
       "      <td>1.083822</td>\n",
       "    </tr>\n",
       "    <tr>\n",
       "      <th>3</th>\n",
       "      <td>-0.113208</td>\n",
       "      <td>0.751520</td>\n",
       "      <td>0.722566</td>\n",
       "      <td>-0.161724</td>\n",
       "      <td>-1.102029</td>\n",
       "      <td>-1.053970</td>\n",
       "      <td>-0.842117</td>\n",
       "      <td>-0.722433</td>\n",
       "      <td>-0.545288</td>\n",
       "      <td>-0.027680</td>\n",
       "      <td>0.186065</td>\n",
       "      <td>-0.953963</td>\n",
       "    </tr>\n",
       "    <tr>\n",
       "      <th>4</th>\n",
       "      <td>-0.113208</td>\n",
       "      <td>-1.350871</td>\n",
       "      <td>-1.318629</td>\n",
       "      <td>1.234751</td>\n",
       "      <td>-0.317808</td>\n",
       "      <td>-0.765009</td>\n",
       "      <td>-0.884945</td>\n",
       "      <td>-0.718546</td>\n",
       "      <td>0.167781</td>\n",
       "      <td>-1.211370</td>\n",
       "      <td>1.572634</td>\n",
       "      <td>-0.614332</td>\n",
       "    </tr>\n",
       "  </tbody>\n",
       "</table>\n",
       "</div>"
      ],
      "text/plain": [
       "      Staff  Floor Space    Window  Demographic score  40min population  \\\n",
       "0 -0.077733     1.272666  1.305764          -1.558199         -0.712075   \n",
       "1 -0.095471     1.288293  1.305764          -1.209080         -1.435415   \n",
       "2 -0.201897    -0.994355 -1.027030          -0.859962          0.387395   \n",
       "3 -0.113208     0.751520  0.722566          -0.161724         -1.102029   \n",
       "4 -0.113208    -1.350871 -1.318629           1.234751         -0.317808   \n",
       "\n",
       "   30 min population  20 min population  10 min population  Store age  \\\n",
       "0          -0.518580          -0.859022          -0.720501  -1.258357   \n",
       "1          -1.089448          -0.824027          -0.651634  -0.901822   \n",
       "2           0.147665          -0.202337          -0.618206   1.593919   \n",
       "3          -1.053970          -0.842117          -0.722433  -0.545288   \n",
       "4          -0.765009          -0.884945          -0.718546   0.167781   \n",
       "\n",
       "   Clearance space  Competition number  Competition score  \n",
       "0        -0.473990            0.532708           0.404560  \n",
       "1         2.359104            0.186065           1.423453  \n",
       "2        -0.842680           -0.507219           1.083822  \n",
       "3        -0.027680            0.186065          -0.953963  \n",
       "4        -1.211370            1.572634          -0.614332  "
      ]
     },
     "execution_count": 33,
     "metadata": {},
     "output_type": "execute_result"
    }
   ],
   "source": [
    "num_encoded.head()"
   ]
  },
  {
   "cell_type": "markdown",
   "id": "9df3dd2f",
   "metadata": {},
   "source": [
    "It is seen that the label encoding is done and now we have to keep in mind that the encoding has considered `Good` as 1 and `Bad` as 0, which totally makes sense to me, in real sense"
   ]
  },
  {
   "cell_type": "markdown",
   "id": "94cbc483",
   "metadata": {},
   "source": [
    "##### Merging"
   ]
  },
  {
   "cell_type": "code",
   "execution_count": 34,
   "id": "788cb825",
   "metadata": {},
   "outputs": [],
   "source": [
    "total_list = [num_encoded, cat_encoded]\n",
    "total_df = pd.concat(total_list, axis=1)"
   ]
  },
  {
   "cell_type": "code",
   "execution_count": 35,
   "id": "3302f05d",
   "metadata": {
    "scrolled": false
   },
   "outputs": [
    {
     "data": {
      "text/html": [
       "<div>\n",
       "<style scoped>\n",
       "    .dataframe tbody tr th:only-of-type {\n",
       "        vertical-align: middle;\n",
       "    }\n",
       "\n",
       "    .dataframe tbody tr th {\n",
       "        vertical-align: top;\n",
       "    }\n",
       "\n",
       "    .dataframe thead th {\n",
       "        text-align: right;\n",
       "    }\n",
       "</style>\n",
       "<table border=\"1\" class=\"dataframe\">\n",
       "  <thead>\n",
       "    <tr style=\"text-align: right;\">\n",
       "      <th></th>\n",
       "      <th>Staff</th>\n",
       "      <th>Floor Space</th>\n",
       "      <th>Window</th>\n",
       "      <th>Demographic score</th>\n",
       "      <th>40min population</th>\n",
       "      <th>30 min population</th>\n",
       "      <th>20 min population</th>\n",
       "      <th>10 min population</th>\n",
       "      <th>Store age</th>\n",
       "      <th>Clearance space</th>\n",
       "      <th>Competition number</th>\n",
       "      <th>Competition score</th>\n",
       "      <th>Car park</th>\n",
       "      <th>Location</th>\n",
       "      <th>Performance</th>\n",
       "    </tr>\n",
       "  </thead>\n",
       "  <tbody>\n",
       "    <tr>\n",
       "      <th>0</th>\n",
       "      <td>-0.077733</td>\n",
       "      <td>1.272666</td>\n",
       "      <td>1.305764</td>\n",
       "      <td>-1.558199</td>\n",
       "      <td>-0.712075</td>\n",
       "      <td>-0.518580</td>\n",
       "      <td>-0.859022</td>\n",
       "      <td>-0.720501</td>\n",
       "      <td>-1.258357</td>\n",
       "      <td>-0.473990</td>\n",
       "      <td>0.532708</td>\n",
       "      <td>0.404560</td>\n",
       "      <td>1</td>\n",
       "      <td>1</td>\n",
       "      <td>1</td>\n",
       "    </tr>\n",
       "    <tr>\n",
       "      <th>1</th>\n",
       "      <td>-0.095471</td>\n",
       "      <td>1.288293</td>\n",
       "      <td>1.305764</td>\n",
       "      <td>-1.209080</td>\n",
       "      <td>-1.435415</td>\n",
       "      <td>-1.089448</td>\n",
       "      <td>-0.824027</td>\n",
       "      <td>-0.651634</td>\n",
       "      <td>-0.901822</td>\n",
       "      <td>2.359104</td>\n",
       "      <td>0.186065</td>\n",
       "      <td>1.423453</td>\n",
       "      <td>1</td>\n",
       "      <td>2</td>\n",
       "      <td>1</td>\n",
       "    </tr>\n",
       "    <tr>\n",
       "      <th>2</th>\n",
       "      <td>-0.201897</td>\n",
       "      <td>-0.994355</td>\n",
       "      <td>-1.027030</td>\n",
       "      <td>-0.859962</td>\n",
       "      <td>0.387395</td>\n",
       "      <td>0.147665</td>\n",
       "      <td>-0.202337</td>\n",
       "      <td>-0.618206</td>\n",
       "      <td>1.593919</td>\n",
       "      <td>-0.842680</td>\n",
       "      <td>-0.507219</td>\n",
       "      <td>1.083822</td>\n",
       "      <td>0</td>\n",
       "      <td>1</td>\n",
       "      <td>0</td>\n",
       "    </tr>\n",
       "    <tr>\n",
       "      <th>3</th>\n",
       "      <td>-0.113208</td>\n",
       "      <td>0.751520</td>\n",
       "      <td>0.722566</td>\n",
       "      <td>-0.161724</td>\n",
       "      <td>-1.102029</td>\n",
       "      <td>-1.053970</td>\n",
       "      <td>-0.842117</td>\n",
       "      <td>-0.722433</td>\n",
       "      <td>-0.545288</td>\n",
       "      <td>-0.027680</td>\n",
       "      <td>0.186065</td>\n",
       "      <td>-0.953963</td>\n",
       "      <td>0</td>\n",
       "      <td>0</td>\n",
       "      <td>0</td>\n",
       "    </tr>\n",
       "    <tr>\n",
       "      <th>4</th>\n",
       "      <td>-0.113208</td>\n",
       "      <td>-1.350871</td>\n",
       "      <td>-1.318629</td>\n",
       "      <td>1.234751</td>\n",
       "      <td>-0.317808</td>\n",
       "      <td>-0.765009</td>\n",
       "      <td>-0.884945</td>\n",
       "      <td>-0.718546</td>\n",
       "      <td>0.167781</td>\n",
       "      <td>-1.211370</td>\n",
       "      <td>1.572634</td>\n",
       "      <td>-0.614332</td>\n",
       "      <td>0</td>\n",
       "      <td>1</td>\n",
       "      <td>0</td>\n",
       "    </tr>\n",
       "  </tbody>\n",
       "</table>\n",
       "</div>"
      ],
      "text/plain": [
       "      Staff  Floor Space    Window  Demographic score  40min population  \\\n",
       "0 -0.077733     1.272666  1.305764          -1.558199         -0.712075   \n",
       "1 -0.095471     1.288293  1.305764          -1.209080         -1.435415   \n",
       "2 -0.201897    -0.994355 -1.027030          -0.859962          0.387395   \n",
       "3 -0.113208     0.751520  0.722566          -0.161724         -1.102029   \n",
       "4 -0.113208    -1.350871 -1.318629           1.234751         -0.317808   \n",
       "\n",
       "   30 min population  20 min population  10 min population  Store age  \\\n",
       "0          -0.518580          -0.859022          -0.720501  -1.258357   \n",
       "1          -1.089448          -0.824027          -0.651634  -0.901822   \n",
       "2           0.147665          -0.202337          -0.618206   1.593919   \n",
       "3          -1.053970          -0.842117          -0.722433  -0.545288   \n",
       "4          -0.765009          -0.884945          -0.718546   0.167781   \n",
       "\n",
       "   Clearance space  Competition number  Competition score  Car park  Location  \\\n",
       "0        -0.473990            0.532708           0.404560         1         1   \n",
       "1         2.359104            0.186065           1.423453         1         2   \n",
       "2        -0.842680           -0.507219           1.083822         0         1   \n",
       "3        -0.027680            0.186065          -0.953963         0         0   \n",
       "4        -1.211370            1.572634          -0.614332         0         1   \n",
       "\n",
       "   Performance  \n",
       "0            1  \n",
       "1            1  \n",
       "2            0  \n",
       "3            0  \n",
       "4            0  "
      ]
     },
     "execution_count": 35,
     "metadata": {},
     "output_type": "execute_result"
    }
   ],
   "source": [
    "total_df.head()"
   ]
  },
  {
   "cell_type": "markdown",
   "id": "d3ebedaf",
   "metadata": {},
   "source": [
    "##### Splitting into training data, validation data and test data"
   ]
  },
  {
   "cell_type": "code",
   "execution_count": 36,
   "id": "ca23e293",
   "metadata": {},
   "outputs": [],
   "source": [
    "from sklearn.model_selection import train_test_split"
   ]
  },
  {
   "cell_type": "markdown",
   "id": "05e36e9c",
   "metadata": {},
   "source": [
    "Using 10% of the data for testing later and using "
   ]
  },
  {
   "cell_type": "code",
   "execution_count": 37,
   "id": "9acd0698",
   "metadata": {},
   "outputs": [],
   "source": [
    "train_df, test_val_df = train_test_split(total_df, test_size=0.35, random_state=1)\n",
    "test_df, val_df = train_test_split(test_val_df, test_size=0.7, random_state=1)"
   ]
  },
  {
   "cell_type": "code",
   "execution_count": 38,
   "id": "f5d77a81",
   "metadata": {},
   "outputs": [
    {
     "name": "stdout",
     "output_type": "stream",
     "text": [
      "The training data has shape: (88, 15)\n",
      "The validation data has shape: (34, 15)\n",
      "The test data has shape (14, 15)\n"
     ]
    }
   ],
   "source": [
    "print(f\"The training data has shape: {train_df.shape}\")\n",
    "print(f\"The validation data has shape: {val_df.shape}\")\n",
    "print(f\"The test data has shape {test_df.shape}\")"
   ]
  },
  {
   "cell_type": "markdown",
   "id": "67a35944",
   "metadata": {},
   "source": [
    "The above splitting is using 60% of the data as training data and using 20% each for both the validation and testing data"
   ]
  },
  {
   "cell_type": "code",
   "execution_count": 39,
   "id": "15ad152e",
   "metadata": {},
   "outputs": [],
   "source": [
    "X_train = train_df.copy()\n",
    "y_train = X_train.pop(\"Performance\")"
   ]
  },
  {
   "cell_type": "code",
   "execution_count": 40,
   "id": "1990f675",
   "metadata": {},
   "outputs": [],
   "source": [
    "X_val = val_df.copy()\n",
    "y_val = X_val.pop(\"Performance\")"
   ]
  },
  {
   "cell_type": "code",
   "execution_count": 41,
   "id": "1f9e355b",
   "metadata": {},
   "outputs": [],
   "source": [
    "X_test = test_df.copy()\n",
    "y_test = X_test.pop(\"Performance\")"
   ]
  },
  {
   "cell_type": "markdown",
   "id": "1bcf7179",
   "metadata": {},
   "source": [
    "Now that all we have is numbers and we now have our training data, validation data and test data, we can proceed to building our models"
   ]
  },
  {
   "cell_type": "code",
   "execution_count": 42,
   "id": "c828a711",
   "metadata": {},
   "outputs": [],
   "source": [
    "from sklearn.preprocessing import StandardScaler\n",
    "scaler = StandardScaler()"
   ]
  },
  {
   "cell_type": "code",
   "execution_count": 43,
   "id": "88b64b3f",
   "metadata": {},
   "outputs": [],
   "source": [
    "X_train_norm = scaler.fit_transform(X_train)\n",
    "X_val_norm = scaler.fit_transform(X_val)\n",
    "X_test_norm = scaler.fit_transform(X_test)"
   ]
  },
  {
   "cell_type": "markdown",
   "id": "fe3b6134",
   "metadata": {},
   "source": [
    "# Model building"
   ]
  },
  {
   "cell_type": "code",
   "execution_count": 44,
   "id": "ea33df29",
   "metadata": {},
   "outputs": [],
   "source": [
    "#fit and predict the model\n",
    "\n",
    "def fit_and_predict(model):\n",
    "    model.fit(X_train_norm, y_train)\n",
    "    preds = model.predict(X_val_norm)\n",
    "    return preds\n",
    "\n",
    "def get_preds_df(model):\n",
    "    preds = fit_and_predict(model)\n",
    "    preds_df = pd.DataFrame({\n",
    "        \"Actual\": y_val,\n",
    "        \"Predicted\": preds\n",
    "    })\n",
    "    return preds_df"
   ]
  },
  {
   "cell_type": "code",
   "execution_count": 45,
   "id": "ed810109",
   "metadata": {},
   "outputs": [],
   "source": [
    "from sklearn.metrics import accuracy_score, confusion_matrix, precision_score, recall_score, f1_score\n",
    "def get_accuracy(model):\n",
    "    preds = fit_and_predict(model)\n",
    "    acc_score = accuracy_score(y_val, y_pred=preds)\n",
    "    return acc_score\n",
    "\n",
    "\n",
    "def get_precision_and_recall(model):\n",
    "    preds = fit_and_predict(model)\n",
    "    pre_score, rec_score = precision_score(y_val, y_pred=preds), recall_score(y_val, y_pred=preds)\n",
    "    return pre_score, rec_score\n",
    "\n",
    "\n",
    "def get_f1_and_conf_mtrx(model):\n",
    "    preds = fit_and_predict(model)\n",
    "    f1, conf_mtrx = f1_score(y_val, y_pred=preds), confusion_matrix(y_val, y_pred=preds)\n",
    "    return f1, conf_mtrx"
   ]
  },
  {
   "cell_type": "code",
   "execution_count": 46,
   "id": "9ecda9b9",
   "metadata": {},
   "outputs": [],
   "source": [
    "def get_feature_weight(model):\n",
    "    weights = model.coef_\n",
    "    features = X_train.columns\n",
    "    weight_df = pd.DataFrame({\n",
    "        \"Columns\":features,\n",
    "        \"Weights\":weights[0]\n",
    "    })\n",
    "    return weight_df\n",
    "\n",
    "\n",
    "def plot_weights(model):\n",
    "    df = get_feature_weight(model)\n",
    "    df.plot(x=\"Columns\", y=\"Weights\", kind=\"barh\")\n",
    "    plt.show()"
   ]
  },
  {
   "cell_type": "markdown",
   "id": "cb4dbc0b",
   "metadata": {},
   "source": [
    "##### Logistic regression"
   ]
  },
  {
   "cell_type": "code",
   "execution_count": 47,
   "id": "d1868a05",
   "metadata": {},
   "outputs": [],
   "source": [
    "from sklearn.linear_model import LogisticRegression"
   ]
  },
  {
   "cell_type": "code",
   "execution_count": 48,
   "id": "09dac87e",
   "metadata": {},
   "outputs": [],
   "source": [
    "#creating a logistic regression model and then getting predictions from it using the get_preds_df() function.\n",
    "logreg_model = LogisticRegression() \n",
    "preds_df_logreg = get_preds_df(logreg_model)"
   ]
  },
  {
   "cell_type": "code",
   "execution_count": 49,
   "id": "a1b09122",
   "metadata": {
    "scrolled": true
   },
   "outputs": [
    {
     "data": {
      "text/html": [
       "<div>\n",
       "<style scoped>\n",
       "    .dataframe tbody tr th:only-of-type {\n",
       "        vertical-align: middle;\n",
       "    }\n",
       "\n",
       "    .dataframe tbody tr th {\n",
       "        vertical-align: top;\n",
       "    }\n",
       "\n",
       "    .dataframe thead th {\n",
       "        text-align: right;\n",
       "    }\n",
       "</style>\n",
       "<table border=\"1\" class=\"dataframe\">\n",
       "  <thead>\n",
       "    <tr style=\"text-align: right;\">\n",
       "      <th></th>\n",
       "      <th>Actual</th>\n",
       "      <th>Predicted</th>\n",
       "    </tr>\n",
       "  </thead>\n",
       "  <tbody>\n",
       "    <tr>\n",
       "      <th>62</th>\n",
       "      <td>0</td>\n",
       "      <td>1</td>\n",
       "    </tr>\n",
       "    <tr>\n",
       "      <th>31</th>\n",
       "      <td>0</td>\n",
       "      <td>1</td>\n",
       "    </tr>\n",
       "    <tr>\n",
       "      <th>111</th>\n",
       "      <td>0</td>\n",
       "      <td>0</td>\n",
       "    </tr>\n",
       "    <tr>\n",
       "      <th>2</th>\n",
       "      <td>0</td>\n",
       "      <td>0</td>\n",
       "    </tr>\n",
       "    <tr>\n",
       "      <th>93</th>\n",
       "      <td>0</td>\n",
       "      <td>0</td>\n",
       "    </tr>\n",
       "  </tbody>\n",
       "</table>\n",
       "</div>"
      ],
      "text/plain": [
       "     Actual  Predicted\n",
       "62        0          1\n",
       "31        0          1\n",
       "111       0          0\n",
       "2         0          0\n",
       "93        0          0"
      ]
     },
     "execution_count": 49,
     "metadata": {},
     "output_type": "execute_result"
    }
   ],
   "source": [
    "preds_df_logreg.head()"
   ]
  },
  {
   "cell_type": "code",
   "execution_count": 50,
   "id": "3ca28d36",
   "metadata": {
    "scrolled": true
   },
   "outputs": [
    {
     "data": {
      "text/html": [
       "<div>\n",
       "<style scoped>\n",
       "    .dataframe tbody tr th:only-of-type {\n",
       "        vertical-align: middle;\n",
       "    }\n",
       "\n",
       "    .dataframe tbody tr th {\n",
       "        vertical-align: top;\n",
       "    }\n",
       "\n",
       "    .dataframe thead th {\n",
       "        text-align: right;\n",
       "    }\n",
       "</style>\n",
       "<table border=\"1\" class=\"dataframe\">\n",
       "  <thead>\n",
       "    <tr style=\"text-align: right;\">\n",
       "      <th></th>\n",
       "      <th>Columns</th>\n",
       "      <th>Weights</th>\n",
       "    </tr>\n",
       "  </thead>\n",
       "  <tbody>\n",
       "    <tr>\n",
       "      <th>0</th>\n",
       "      <td>Staff</td>\n",
       "      <td>0.298024</td>\n",
       "    </tr>\n",
       "    <tr>\n",
       "      <th>1</th>\n",
       "      <td>Floor Space</td>\n",
       "      <td>0.250952</td>\n",
       "    </tr>\n",
       "    <tr>\n",
       "      <th>2</th>\n",
       "      <td>Window</td>\n",
       "      <td>0.433510</td>\n",
       "    </tr>\n",
       "    <tr>\n",
       "      <th>3</th>\n",
       "      <td>Demographic score</td>\n",
       "      <td>-0.389698</td>\n",
       "    </tr>\n",
       "    <tr>\n",
       "      <th>4</th>\n",
       "      <td>40min population</td>\n",
       "      <td>-0.817748</td>\n",
       "    </tr>\n",
       "    <tr>\n",
       "      <th>5</th>\n",
       "      <td>30 min population</td>\n",
       "      <td>0.116720</td>\n",
       "    </tr>\n",
       "    <tr>\n",
       "      <th>6</th>\n",
       "      <td>20 min population</td>\n",
       "      <td>0.346550</td>\n",
       "    </tr>\n",
       "    <tr>\n",
       "      <th>7</th>\n",
       "      <td>10 min population</td>\n",
       "      <td>0.331148</td>\n",
       "    </tr>\n",
       "    <tr>\n",
       "      <th>8</th>\n",
       "      <td>Store age</td>\n",
       "      <td>-0.192179</td>\n",
       "    </tr>\n",
       "    <tr>\n",
       "      <th>9</th>\n",
       "      <td>Clearance space</td>\n",
       "      <td>0.033569</td>\n",
       "    </tr>\n",
       "    <tr>\n",
       "      <th>10</th>\n",
       "      <td>Competition number</td>\n",
       "      <td>0.502018</td>\n",
       "    </tr>\n",
       "    <tr>\n",
       "      <th>11</th>\n",
       "      <td>Competition score</td>\n",
       "      <td>1.049983</td>\n",
       "    </tr>\n",
       "    <tr>\n",
       "      <th>12</th>\n",
       "      <td>Car park</td>\n",
       "      <td>0.247790</td>\n",
       "    </tr>\n",
       "    <tr>\n",
       "      <th>13</th>\n",
       "      <td>Location</td>\n",
       "      <td>0.717721</td>\n",
       "    </tr>\n",
       "  </tbody>\n",
       "</table>\n",
       "</div>"
      ],
      "text/plain": [
       "               Columns   Weights\n",
       "0                Staff  0.298024\n",
       "1          Floor Space  0.250952\n",
       "2               Window  0.433510\n",
       "3    Demographic score -0.389698\n",
       "4     40min population -0.817748\n",
       "5    30 min population  0.116720\n",
       "6    20 min population  0.346550\n",
       "7    10 min population  0.331148\n",
       "8            Store age -0.192179\n",
       "9      Clearance space  0.033569\n",
       "10  Competition number  0.502018\n",
       "11   Competition score  1.049983\n",
       "12            Car park  0.247790\n",
       "13            Location  0.717721"
      ]
     },
     "execution_count": 50,
     "metadata": {},
     "output_type": "execute_result"
    }
   ],
   "source": [
    "get_feature_weight(logreg_model)"
   ]
  },
  {
   "cell_type": "code",
   "execution_count": 51,
   "id": "7dd494c6",
   "metadata": {
    "scrolled": true
   },
   "outputs": [
    {
     "name": "stdout",
     "output_type": "stream",
     "text": [
      "Weight plot for logistic regression model\n"
     ]
    },
    {
     "data": {
      "image/png": "[encoded data removed]",
      "text/plain": [
       "<Figure size 640x480 with 1 Axes>"
      ]
     },
     "metadata": {},
     "output_type": "display_data"
    }
   ],
   "source": [
    "print(\"Weight plot for logistic regression model\")\n",
    "plot_weights(logreg_model)"
   ]
  },
  {
   "cell_type": "code",
   "execution_count": 52,
   "id": "286c80b9",
   "metadata": {},
   "outputs": [
    {
     "data": {
      "text/plain": [
       "0.6764705882352942"
      ]
     },
     "execution_count": 52,
     "metadata": {},
     "output_type": "execute_result"
    }
   ],
   "source": [
    "get_accuracy(logreg_model)"
   ]
  },
  {
   "cell_type": "code",
   "execution_count": 53,
   "id": "97bdcea4",
   "metadata": {},
   "outputs": [
    {
     "data": {
      "text/plain": [
       "(0.65, 0.7647058823529411)"
      ]
     },
     "execution_count": 53,
     "metadata": {},
     "output_type": "execute_result"
    }
   ],
   "source": [
    "get_precision_and_recall(logreg_model)"
   ]
  },
  {
   "cell_type": "code",
   "execution_count": 54,
   "id": "a80bd21f",
   "metadata": {},
   "outputs": [
    {
     "data": {
      "text/plain": [
       "(0.7027027027027027,\n",
       " array([[10,  7],\n",
       "        [ 4, 13]], dtype=int64))"
      ]
     },
     "execution_count": 54,
     "metadata": {},
     "output_type": "execute_result"
    }
   ],
   "source": [
    "get_f1_and_conf_mtrx(logreg_model)"
   ]
  },
  {
   "cell_type": "code",
   "execution_count": 55,
   "id": "80943e46",
   "metadata": {},
   "outputs": [
    {
     "data": {
      "image/png": "[encoded data removed]",
      "text/plain": [
       "<Figure size 640x480 with 2 Axes>"
      ]
     },
     "metadata": {},
     "output_type": "display_data"
    }
   ],
   "source": [
    "# Assuming that logreg_model is a trained logistic regression model\n",
    "f1, conf_mat = get_f1_and_conf_mtrx(logreg_model)\n",
    "plt.title(\"Confusion matrix of logistic regression model\")\n",
    "sns.heatmap(conf_mat, annot=True)\n",
    "plt.show()"
   ]
  },
  {
   "cell_type": "markdown",
   "id": "2c735824",
   "metadata": {},
   "source": [
    "##### Decision Tree"
   ]
  },
  {
   "cell_type": "code",
   "execution_count": 56,
   "id": "b0b48656",
   "metadata": {},
   "outputs": [
    {
     "data": {
      "text/html": [
       "<div>\n",
       "<style scoped>\n",
       "    .dataframe tbody tr th:only-of-type {\n",
       "        vertical-align: middle;\n",
       "    }\n",
       "\n",
       "    .dataframe tbody tr th {\n",
       "        vertical-align: top;\n",
       "    }\n",
       "\n",
       "    .dataframe thead th {\n",
       "        text-align: right;\n",
       "    }\n",
       "</style>\n",
       "<table border=\"1\" class=\"dataframe\">\n",
       "  <thead>\n",
       "    <tr style=\"text-align: right;\">\n",
       "      <th></th>\n",
       "      <th>Actual</th>\n",
       "      <th>Predicted</th>\n",
       "    </tr>\n",
       "  </thead>\n",
       "  <tbody>\n",
       "    <tr>\n",
       "      <th>62</th>\n",
       "      <td>0</td>\n",
       "      <td>0</td>\n",
       "    </tr>\n",
       "    <tr>\n",
       "      <th>31</th>\n",
       "      <td>0</td>\n",
       "      <td>0</td>\n",
       "    </tr>\n",
       "    <tr>\n",
       "      <th>111</th>\n",
       "      <td>0</td>\n",
       "      <td>0</td>\n",
       "    </tr>\n",
       "    <tr>\n",
       "      <th>2</th>\n",
       "      <td>0</td>\n",
       "      <td>0</td>\n",
       "    </tr>\n",
       "    <tr>\n",
       "      <th>93</th>\n",
       "      <td>0</td>\n",
       "      <td>0</td>\n",
       "    </tr>\n",
       "  </tbody>\n",
       "</table>\n",
       "</div>"
      ],
      "text/plain": [
       "     Actual  Predicted\n",
       "62        0          0\n",
       "31        0          0\n",
       "111       0          0\n",
       "2         0          0\n",
       "93        0          0"
      ]
     },
     "execution_count": 56,
     "metadata": {},
     "output_type": "execute_result"
    }
   ],
   "source": [
    "from sklearn.tree import DecisionTreeClassifier\n",
    "\n",
    "# Create a decision tree classifier model\n",
    "dtc_model = DecisionTreeClassifier()\n",
    "preds_df_dtc = get_preds_df(dtc_model)\n",
    "preds_df_dtc.head()"
   ]
  },
  {
   "cell_type": "code",
   "execution_count": 57,
   "id": "2d423829",
   "metadata": {},
   "outputs": [
    {
     "data": {
      "text/html": [
       "<div>\n",
       "<style scoped>\n",
       "    .dataframe tbody tr th:only-of-type {\n",
       "        vertical-align: middle;\n",
       "    }\n",
       "\n",
       "    .dataframe tbody tr th {\n",
       "        vertical-align: top;\n",
       "    }\n",
       "\n",
       "    .dataframe thead th {\n",
       "        text-align: right;\n",
       "    }\n",
       "</style>\n",
       "<table border=\"1\" class=\"dataframe\">\n",
       "  <thead>\n",
       "    <tr style=\"text-align: right;\">\n",
       "      <th></th>\n",
       "      <th>Columns</th>\n",
       "      <th>Weights</th>\n",
       "    </tr>\n",
       "  </thead>\n",
       "  <tbody>\n",
       "    <tr>\n",
       "      <th>0</th>\n",
       "      <td>Staff</td>\n",
       "      <td>0.146764</td>\n",
       "    </tr>\n",
       "    <tr>\n",
       "      <th>1</th>\n",
       "      <td>Floor Space</td>\n",
       "      <td>0.000000</td>\n",
       "    </tr>\n",
       "    <tr>\n",
       "      <th>2</th>\n",
       "      <td>Window</td>\n",
       "      <td>0.022833</td>\n",
       "    </tr>\n",
       "    <tr>\n",
       "      <th>3</th>\n",
       "      <td>Demographic score</td>\n",
       "      <td>0.055181</td>\n",
       "    </tr>\n",
       "    <tr>\n",
       "      <th>4</th>\n",
       "      <td>40min population</td>\n",
       "      <td>0.102153</td>\n",
       "    </tr>\n",
       "    <tr>\n",
       "      <th>5</th>\n",
       "      <td>30 min population</td>\n",
       "      <td>0.000000</td>\n",
       "    </tr>\n",
       "    <tr>\n",
       "      <th>6</th>\n",
       "      <td>20 min population</td>\n",
       "      <td>0.030445</td>\n",
       "    </tr>\n",
       "    <tr>\n",
       "      <th>7</th>\n",
       "      <td>10 min population</td>\n",
       "      <td>0.071960</td>\n",
       "    </tr>\n",
       "    <tr>\n",
       "      <th>8</th>\n",
       "      <td>Store age</td>\n",
       "      <td>0.024356</td>\n",
       "    </tr>\n",
       "    <tr>\n",
       "      <th>9</th>\n",
       "      <td>Clearance space</td>\n",
       "      <td>0.071807</td>\n",
       "    </tr>\n",
       "    <tr>\n",
       "      <th>10</th>\n",
       "      <td>Competition number</td>\n",
       "      <td>0.034596</td>\n",
       "    </tr>\n",
       "    <tr>\n",
       "      <th>11</th>\n",
       "      <td>Competition score</td>\n",
       "      <td>0.210261</td>\n",
       "    </tr>\n",
       "    <tr>\n",
       "      <th>12</th>\n",
       "      <td>Car park</td>\n",
       "      <td>0.030445</td>\n",
       "    </tr>\n",
       "    <tr>\n",
       "      <th>13</th>\n",
       "      <td>Location</td>\n",
       "      <td>0.199199</td>\n",
       "    </tr>\n",
       "  </tbody>\n",
       "</table>\n",
       "</div>"
      ],
      "text/plain": [
       "               Columns   Weights\n",
       "0                Staff  0.146764\n",
       "1          Floor Space  0.000000\n",
       "2               Window  0.022833\n",
       "3    Demographic score  0.055181\n",
       "4     40min population  0.102153\n",
       "5    30 min population  0.000000\n",
       "6    20 min population  0.030445\n",
       "7    10 min population  0.071960\n",
       "8            Store age  0.024356\n",
       "9      Clearance space  0.071807\n",
       "10  Competition number  0.034596\n",
       "11   Competition score  0.210261\n",
       "12            Car park  0.030445\n",
       "13            Location  0.199199"
      ]
     },
     "execution_count": 57,
     "metadata": {},
     "output_type": "execute_result"
    }
   ],
   "source": [
    "#creating a dataframe that stores the feature importance weights for each column in the training set X_train\n",
    "weights_dtc = dtc_model.feature_importances_\n",
    "features = X_train.columns\n",
    "weight_df_dtc = pd.DataFrame({\n",
    "        \"Columns\":features,\n",
    "        \"Weights\":weights_dtc\n",
    "    })\n",
    "weight_df_dtc"
   ]
  },
  {
   "cell_type": "code",
   "execution_count": 58,
   "id": "140f46ec",
   "metadata": {},
   "outputs": [
    {
     "name": "stdout",
     "output_type": "stream",
     "text": [
      "Weight plot for decision tree model\n"
     ]
    },
    {
     "data": {
      "image/png": "[encoded data removed]",
      "text/plain": [
       "<Figure size 640x480 with 1 Axes>"
      ]
     },
     "metadata": {},
     "output_type": "display_data"
    }
   ],
   "source": [
    "print(\"Weight plot for decision tree model\")\n",
    "weight_df_dtc.plot(x=\"Columns\", y=\"Weights\", kind=\"barh\")\n",
    "plt.show()"
   ]
  },
  {
   "cell_type": "code",
   "execution_count": 59,
   "id": "85ad21db",
   "metadata": {},
   "outputs": [
    {
     "data": {
      "text/plain": [
       "0.6764705882352942"
      ]
     },
     "execution_count": 59,
     "metadata": {},
     "output_type": "execute_result"
    }
   ],
   "source": [
    "get_accuracy(dtc_model)"
   ]
  },
  {
   "cell_type": "code",
   "execution_count": 60,
   "id": "747dd85f",
   "metadata": {},
   "outputs": [
    {
     "data": {
      "text/plain": [
       "(0.6875, 0.6470588235294118)"
      ]
     },
     "execution_count": 60,
     "metadata": {},
     "output_type": "execute_result"
    }
   ],
   "source": [
    "get_precision_and_recall(dtc_model)"
   ]
  },
  {
   "cell_type": "code",
   "execution_count": 61,
   "id": "5517d042",
   "metadata": {},
   "outputs": [
    {
     "data": {
      "text/plain": [
       "(0.6875,\n",
       " array([[13,  4],\n",
       "        [ 6, 11]], dtype=int64))"
      ]
     },
     "execution_count": 61,
     "metadata": {},
     "output_type": "execute_result"
    }
   ],
   "source": [
    "get_f1_and_conf_mtrx(dtc_model)"
   ]
  },
  {
   "cell_type": "code",
   "execution_count": 62,
   "id": "e5f6302a",
   "metadata": {},
   "outputs": [
    {
     "data": {
      "image/png": "[encoded data removed]",
      "text/plain": [
       "<Figure size 640x480 with 2 Axes>"
      ]
     },
     "metadata": {},
     "output_type": "display_data"
    }
   ],
   "source": [
    "f1, conf_mat = get_f1_and_conf_mtrx(dtc_model)\n",
    "plt.title(\"Confusion matrix of decision tree model\")\n",
    "sns.heatmap(conf_mat, annot=True)\n",
    "plt.show()"
   ]
  },
  {
   "cell_type": "markdown",
   "id": "3a017092",
   "metadata": {},
   "source": [
    "##### Neural network"
   ]
  },
  {
   "cell_type": "code",
   "execution_count": 63,
   "id": "888451ff",
   "metadata": {},
   "outputs": [],
   "source": [
    "import tensorflow as tf\n",
    "from tensorflow.keras.models import Sequential\n",
    "from tensorflow.keras.layers import Dense, Input, Dropout"
   ]
  },
  {
   "cell_type": "code",
   "execution_count": 64,
   "id": "fc777b58",
   "metadata": {},
   "outputs": [],
   "source": [
    "#creates a neural network model using the Sequential approach\n",
    "nn_model = Sequential()\n",
    "\n",
    "nn_model.add(Input(shape=(X_train.shape[1:])))\n",
    "\n",
    "\n",
    "nn_model.add(Dense(16, activation=\"relu\"))\n",
    "nn_model.add(Dropout(0.4))\n",
    "\n",
    "\n",
    "nn_model.add(Dense(16, activation=\"relu\"))\n",
    "nn_model.add(Dropout(0.4))\n",
    "\n",
    "\n",
    "nn_model.add(Dense(8, activation=\"relu\"))\n",
    "nn_model.add(Dropout(0.4))\n",
    "\n",
    "\n",
    "nn_model.add(Dense(1, activation=\"sigmoid\"))\n",
    "\n",
    "\n",
    "es_callback = tf.keras.callbacks.EarlyStopping(monitor='val_loss', patience=3)\n",
    "nn_model.compile(optimizer=\"adam\",loss='binary_crossentropy',metrics=['accuracy'])"
   ]
  },
  {
   "cell_type": "code",
   "execution_count": 65,
   "id": "f431dee0",
   "metadata": {},
   "outputs": [
    {
     "name": "stdout",
     "output_type": "stream",
     "text": [
      "Epoch 1/50\n",
      "18/18 [==============================] - 3s 34ms/step - loss: 0.7656 - accuracy: 0.4886 - val_loss: 0.7524 - val_accuracy: 0.4118\n",
      "Epoch 2/50\n",
      "18/18 [==============================] - 0s 7ms/step - loss: 0.8753 - accuracy: 0.4886 - val_loss: 0.7420 - val_accuracy: 0.3824\n",
      "Epoch 3/50\n",
      "18/18 [==============================] - 0s 8ms/step - loss: 0.7677 - accuracy: 0.4545 - val_loss: 0.7335 - val_accuracy: 0.4412\n",
      "Epoch 4/50\n",
      "18/18 [==============================] - 0s 9ms/step - loss: 0.8067 - accuracy: 0.3864 - val_loss: 0.7279 - val_accuracy: 0.4412\n",
      "Epoch 5/50\n",
      "18/18 [==============================] - 0s 8ms/step - loss: 0.7465 - accuracy: 0.4773 - val_loss: 0.7217 - val_accuracy: 0.5000\n",
      "Epoch 6/50\n",
      "18/18 [==============================] - 0s 7ms/step - loss: 0.7307 - accuracy: 0.5455 - val_loss: 0.7163 - val_accuracy: 0.3824\n",
      "Epoch 7/50\n",
      "18/18 [==============================] - 0s 8ms/step - loss: 0.7737 - accuracy: 0.5114 - val_loss: 0.7095 - val_accuracy: 0.4706\n",
      "Epoch 8/50\n",
      "18/18 [==============================] - 0s 9ms/step - loss: 0.7234 - accuracy: 0.5000 - val_loss: 0.7058 - val_accuracy: 0.4706\n",
      "Epoch 9/50\n",
      "18/18 [==============================] - 0s 8ms/step - loss: 0.6785 - accuracy: 0.5227 - val_loss: 0.7034 - val_accuracy: 0.5000\n",
      "Epoch 10/50\n",
      "18/18 [==============================] - 0s 8ms/step - loss: 0.6791 - accuracy: 0.6250 - val_loss: 0.7007 - val_accuracy: 0.4706\n",
      "Epoch 11/50\n",
      "18/18 [==============================] - 0s 8ms/step - loss: 0.7043 - accuracy: 0.5114 - val_loss: 0.6974 - val_accuracy: 0.5000\n",
      "Epoch 12/50\n",
      "18/18 [==============================] - 0s 7ms/step - loss: 0.7509 - accuracy: 0.4545 - val_loss: 0.6935 - val_accuracy: 0.5588\n",
      "Epoch 13/50\n",
      "18/18 [==============================] - 0s 7ms/step - loss: 0.6750 - accuracy: 0.6023 - val_loss: 0.6916 - val_accuracy: 0.5294\n",
      "Epoch 14/50\n",
      "18/18 [==============================] - 0s 7ms/step - loss: 0.7102 - accuracy: 0.5455 - val_loss: 0.6896 - val_accuracy: 0.5588\n",
      "Epoch 15/50\n",
      "18/18 [==============================] - 0s 8ms/step - loss: 0.6526 - accuracy: 0.5909 - val_loss: 0.6890 - val_accuracy: 0.5294\n",
      "Epoch 16/50\n",
      "18/18 [==============================] - 0s 8ms/step - loss: 0.6958 - accuracy: 0.6136 - val_loss: 0.6869 - val_accuracy: 0.5294\n",
      "Epoch 17/50\n",
      "18/18 [==============================] - 0s 7ms/step - loss: 0.6552 - accuracy: 0.5909 - val_loss: 0.6858 - val_accuracy: 0.5000\n",
      "Epoch 18/50\n",
      "18/18 [==============================] - 0s 8ms/step - loss: 0.7193 - accuracy: 0.5682 - val_loss: 0.6864 - val_accuracy: 0.5294\n",
      "Epoch 19/50\n",
      "18/18 [==============================] - 0s 8ms/step - loss: 0.6376 - accuracy: 0.5795 - val_loss: 0.6869 - val_accuracy: 0.5588\n",
      "Epoch 20/50\n",
      "18/18 [==============================] - 0s 9ms/step - loss: 0.6715 - accuracy: 0.5795 - val_loss: 0.6858 - val_accuracy: 0.5588\n",
      "Epoch 21/50\n",
      "18/18 [==============================] - 0s 8ms/step - loss: 0.6479 - accuracy: 0.6364 - val_loss: 0.6859 - val_accuracy: 0.5882\n",
      "Epoch 22/50\n",
      "18/18 [==============================] - 0s 8ms/step - loss: 0.6628 - accuracy: 0.6818 - val_loss: 0.6840 - val_accuracy: 0.5882\n",
      "Epoch 23/50\n",
      "18/18 [==============================] - 0s 7ms/step - loss: 0.6508 - accuracy: 0.6591 - val_loss: 0.6814 - val_accuracy: 0.6176\n",
      "Epoch 24/50\n",
      "18/18 [==============================] - 0s 8ms/step - loss: 0.6607 - accuracy: 0.5909 - val_loss: 0.6800 - val_accuracy: 0.6176\n",
      "Epoch 25/50\n",
      "18/18 [==============================] - 0s 8ms/step - loss: 0.6780 - accuracy: 0.6250 - val_loss: 0.6789 - val_accuracy: 0.5588\n",
      "Epoch 26/50\n",
      "18/18 [==============================] - 0s 8ms/step - loss: 0.6724 - accuracy: 0.5795 - val_loss: 0.6782 - val_accuracy: 0.5588\n",
      "Epoch 27/50\n",
      "18/18 [==============================] - 0s 8ms/step - loss: 0.6526 - accuracy: 0.6364 - val_loss: 0.6782 - val_accuracy: 0.5588\n",
      "Epoch 28/50\n",
      "18/18 [==============================] - 0s 8ms/step - loss: 0.6200 - accuracy: 0.6705 - val_loss: 0.6767 - val_accuracy: 0.5294\n",
      "Epoch 29/50\n",
      "18/18 [==============================] - 0s 7ms/step - loss: 0.6278 - accuracy: 0.6705 - val_loss: 0.6761 - val_accuracy: 0.5294\n",
      "Epoch 30/50\n",
      "18/18 [==============================] - 0s 8ms/step - loss: 0.6603 - accuracy: 0.5909 - val_loss: 0.6770 - val_accuracy: 0.5294\n",
      "Epoch 31/50\n",
      "18/18 [==============================] - 0s 7ms/step - loss: 0.6253 - accuracy: 0.7159 - val_loss: 0.6763 - val_accuracy: 0.5294\n",
      "Epoch 32/50\n",
      "18/18 [==============================] - 0s 8ms/step - loss: 0.6215 - accuracy: 0.7273 - val_loss: 0.6743 - val_accuracy: 0.5294\n",
      "Epoch 33/50\n",
      "18/18 [==============================] - 0s 7ms/step - loss: 0.6070 - accuracy: 0.7159 - val_loss: 0.6723 - val_accuracy: 0.5000\n",
      "Epoch 34/50\n",
      "18/18 [==============================] - 0s 7ms/step - loss: 0.6227 - accuracy: 0.6136 - val_loss: 0.6685 - val_accuracy: 0.5588\n",
      "Epoch 35/50\n",
      "18/18 [==============================] - 0s 8ms/step - loss: 0.6047 - accuracy: 0.7045 - val_loss: 0.6668 - val_accuracy: 0.5588\n",
      "Epoch 36/50\n",
      "18/18 [==============================] - 0s 7ms/step - loss: 0.6573 - accuracy: 0.6023 - val_loss: 0.6667 - val_accuracy: 0.5588\n",
      "Epoch 37/50\n",
      "18/18 [==============================] - 0s 7ms/step - loss: 0.6403 - accuracy: 0.6250 - val_loss: 0.6666 - val_accuracy: 0.5588\n",
      "Epoch 38/50\n",
      "18/18 [==============================] - 0s 8ms/step - loss: 0.6332 - accuracy: 0.6364 - val_loss: 0.6656 - val_accuracy: 0.6176\n",
      "Epoch 39/50\n",
      "18/18 [==============================] - 0s 9ms/step - loss: 0.5951 - accuracy: 0.6250 - val_loss: 0.6654 - val_accuracy: 0.5588\n",
      "Epoch 40/50\n",
      "18/18 [==============================] - 0s 9ms/step - loss: 0.5961 - accuracy: 0.6818 - val_loss: 0.6628 - val_accuracy: 0.5882\n",
      "Epoch 41/50\n",
      "18/18 [==============================] - 0s 8ms/step - loss: 0.5768 - accuracy: 0.6932 - val_loss: 0.6609 - val_accuracy: 0.5588\n",
      "Epoch 42/50\n",
      "18/18 [==============================] - 0s 8ms/step - loss: 0.6391 - accuracy: 0.6023 - val_loss: 0.6589 - val_accuracy: 0.5882\n",
      "Epoch 43/50\n",
      "18/18 [==============================] - 0s 8ms/step - loss: 0.5932 - accuracy: 0.6477 - val_loss: 0.6573 - val_accuracy: 0.5882\n",
      "Epoch 44/50\n",
      "18/18 [==============================] - 0s 7ms/step - loss: 0.5898 - accuracy: 0.6818 - val_loss: 0.6580 - val_accuracy: 0.5882\n",
      "Epoch 45/50\n",
      "18/18 [==============================] - 0s 8ms/step - loss: 0.5683 - accuracy: 0.6818 - val_loss: 0.6579 - val_accuracy: 0.5882\n",
      "Epoch 46/50\n",
      "18/18 [==============================] - 0s 7ms/step - loss: 0.5706 - accuracy: 0.6818 - val_loss: 0.6548 - val_accuracy: 0.5882\n",
      "Epoch 47/50\n",
      "18/18 [==============================] - 0s 7ms/step - loss: 0.5995 - accuracy: 0.7045 - val_loss: 0.6492 - val_accuracy: 0.6176\n",
      "Epoch 48/50\n",
      "18/18 [==============================] - 0s 8ms/step - loss: 0.5894 - accuracy: 0.7273 - val_loss: 0.6446 - val_accuracy: 0.6176\n",
      "Epoch 49/50\n",
      "18/18 [==============================] - 0s 7ms/step - loss: 0.5571 - accuracy: 0.6591 - val_loss: 0.6432 - val_accuracy: 0.6176\n",
      "Epoch 50/50\n",
      "18/18 [==============================] - 0s 7ms/step - loss: 0.6380 - accuracy: 0.6136 - val_loss: 0.6433 - val_accuracy: 0.6471\n"
     ]
    }
   ],
   "source": [
    "history = nn_model.fit(X_train_norm, np.array(y_train), validation_data=(X_val_norm, y_val), batch_size=5, epochs=50, callbacks=[es_callback])"
   ]
  },
  {
   "cell_type": "code",
   "execution_count": 66,
   "id": "8834fc46",
   "metadata": {},
   "outputs": [
    {
     "data": {
      "image/png": "[encoded data removed]",
      "text/plain": [
       "<Figure size 1200x400 with 2 Axes>"
      ]
     },
     "metadata": {},
     "output_type": "display_data"
    }
   ],
   "source": [
    "#plotting two graphs showing the loss and accuracy of the model after each epoch\n",
    "loss = history.history['loss']\n",
    "val_loss = history.history['val_loss']\n",
    "acc = history.history['accuracy']\n",
    "val_acc = history.history['val_accuracy']\n",
    "epochs = range(1,1+len(loss))\n",
    "fig,(ax1,ax2) = plt.subplots(ncols=2, figsize=(12,4))\n",
    "ax1.plot(epochs,loss,'b',label='Loss')\n",
    "ax1.plot(epochs,val_loss,'r',label='Validation Loss')\n",
    "ax1.legend()\n",
    "\n",
    "ax2.plot(epochs,acc,'b',label='Accuracy')\n",
    "ax2.plot(epochs,val_acc,'r',label='Validation Accuracy')\n",
    "ax2.legend()\n",
    "\n",
    "plt.show()"
   ]
  },
  {
   "cell_type": "code",
   "execution_count": 67,
   "id": "d0f2306a",
   "metadata": {},
   "outputs": [
    {
     "name": "stdout",
     "output_type": "stream",
     "text": [
      "1/1 [==============================] - 0s 222ms/step\n"
     ]
    }
   ],
   "source": [
    "nn_preds = np.round(nn_model.predict(X_test_norm)).astype(\"int8\")"
   ]
  },
  {
   "cell_type": "code",
   "execution_count": 68,
   "id": "ee2b84ba",
   "metadata": {},
   "outputs": [
    {
     "data": {
      "text/plain": [
       "array([[1],\n",
       "       [1],\n",
       "       [1],\n",
       "       [1],\n",
       "       [0],\n",
       "       [0],\n",
       "       [1],\n",
       "       [0],\n",
       "       [0],\n",
       "       [1],\n",
       "       [1],\n",
       "       [1],\n",
       "       [1],\n",
       "       [0]], dtype=int8)"
      ]
     },
     "execution_count": 68,
     "metadata": {},
     "output_type": "execute_result"
    }
   ],
   "source": [
    "nn_preds"
   ]
  },
  {
   "cell_type": "code",
   "execution_count": 69,
   "id": "4d0a382a",
   "metadata": {},
   "outputs": [
    {
     "data": {
      "text/plain": [
       "56     0\n",
       "17     0\n",
       "54     0\n",
       "36     1\n",
       "33     0\n",
       "42     0\n",
       "115    1\n",
       "108    0\n",
       "119    1\n",
       "120    0\n",
       "53     1\n",
       "44     1\n",
       "95     0\n",
       "39     0\n",
       "Name: Performance, dtype: int32"
      ]
     },
     "execution_count": 69,
     "metadata": {},
     "output_type": "execute_result"
    }
   ],
   "source": [
    "y_test"
   ]
  },
  {
   "cell_type": "code",
   "execution_count": 70,
   "id": "58831e3f",
   "metadata": {},
   "outputs": [
    {
     "data": {
      "text/plain": [
       "0.5714285714285714"
      ]
     },
     "execution_count": 70,
     "metadata": {},
     "output_type": "execute_result"
    }
   ],
   "source": [
    "accuracy_score(nn_preds, y_test)"
   ]
  },
  {
   "cell_type": "code",
   "execution_count": 71,
   "id": "1d21d81c",
   "metadata": {},
   "outputs": [
    {
     "data": {
      "text/plain": [
       "(0.8, 0.4444444444444444)"
      ]
     },
     "execution_count": 71,
     "metadata": {},
     "output_type": "execute_result"
    }
   ],
   "source": [
    "precision_score(nn_preds, y_test), recall_score(nn_preds, y_test)"
   ]
  },
  {
   "cell_type": "code",
   "execution_count": 72,
   "id": "2ca40405",
   "metadata": {},
   "outputs": [
    {
     "data": {
      "text/plain": [
       "0.5714285714285714"
      ]
     },
     "execution_count": 72,
     "metadata": {},
     "output_type": "execute_result"
    }
   ],
   "source": [
    "f1_score(nn_preds, y_test)"
   ]
  },
  {
   "cell_type": "code",
   "execution_count": 73,
   "id": "451cb048",
   "metadata": {},
   "outputs": [],
   "source": [
    "conf_mat = confusion_matrix(nn_preds, y_test)"
   ]
  },
  {
   "cell_type": "code",
   "execution_count": 74,
   "id": "0af416e7",
   "metadata": {},
   "outputs": [
    {
     "data": {
      "image/png": "[encoded data removed]",
      "text/plain": [
       "<Figure size 640x480 with 2 Axes>"
      ]
     },
     "metadata": {},
     "output_type": "display_data"
    }
   ],
   "source": [
    "sns.heatmap(conf_mat, annot=True)\n",
    "plt.title(\"Confusion matrix of Neural network model\")\n",
    "plt.show()"
   ]
  },
  {
   "cell_type": "markdown",
   "id": "4b86bb75",
   "metadata": {},
   "source": [
    "# Hyperparameter Tuning Using GridSearchCV"
   ]
  },
  {
   "cell_type": "code",
   "execution_count": 75,
   "id": "5e8a8f4c",
   "metadata": {},
   "outputs": [],
   "source": [
    "from sklearn.model_selection import GridSearchCV\n",
    "from sklearn.model_selection import RepeatedStratifiedKFold"
   ]
  },
  {
   "cell_type": "code",
   "execution_count": 76,
   "id": "b6daec60",
   "metadata": {},
   "outputs": [],
   "source": [
    "def hyper_tune(grid, model):\n",
    "    cv = RepeatedStratifiedKFold(n_splits=10, n_repeats=3, random_state=1)\n",
    "\n",
    "    grid_model = GridSearchCV(estimator=model, param_grid=grid, n_jobs=-1, cv=cv, scoring='accuracy')\n",
    "    grid_result = grid_model.fit(X_train_norm, y_train)\n",
    "    \n",
    "    return grid_result"
   ]
  },
  {
   "cell_type": "markdown",
   "id": "8cc351ee",
   "metadata": {},
   "source": [
    "##### Hyperparameter tuning for Logistic Regression"
   ]
  },
  {
   "cell_type": "code",
   "execution_count": 77,
   "id": "36ba3f71",
   "metadata": {},
   "outputs": [],
   "source": [
    "#defining a grid search for hyperparameter tuning for a Logistic Regression model\n",
    "solvers = ['newton-cg', 'lbfgs', 'liblinear']\n",
    "penalty = ['l2']\n",
    "c_values = [10.]\n",
    "grid_logreg = {\n",
    "    \"solver\":solvers,\n",
    "    \"penalty\":penalty,\n",
    "    \"C\": c_values\n",
    "}\n",
    "\n",
    "logreg_grid_result = hyper_tune(grid_logreg, LogisticRegression())"
   ]
  },
  {
   "cell_type": "code",
   "execution_count": 78,
   "id": "00d09268",
   "metadata": {},
   "outputs": [
    {
     "data": {
      "text/plain": [
       "{'C': 10.0, 'penalty': 'l2', 'solver': 'newton-cg'}"
      ]
     },
     "execution_count": 78,
     "metadata": {},
     "output_type": "execute_result"
    }
   ],
   "source": [
    "logreg_grid_result.best_params_"
   ]
  },
  {
   "cell_type": "code",
   "execution_count": 79,
   "id": "5210a005",
   "metadata": {},
   "outputs": [],
   "source": [
    "tuned_logreg = LogisticRegression(solver=\"newton-cg\", C=10., penalty=\"l2\")\n",
    "tuned_logreg.fit(X_train_norm, y_train)\n",
    "\n",
    "tuned_preds_df_logreg = get_preds_df(tuned_logreg)"
   ]
  },
  {
   "cell_type": "code",
   "execution_count": 80,
   "id": "9b1fc959",
   "metadata": {},
   "outputs": [
    {
     "data": {
      "text/html": [
       "<div>\n",
       "<style scoped>\n",
       "    .dataframe tbody tr th:only-of-type {\n",
       "        vertical-align: middle;\n",
       "    }\n",
       "\n",
       "    .dataframe tbody tr th {\n",
       "        vertical-align: top;\n",
       "    }\n",
       "\n",
       "    .dataframe thead th {\n",
       "        text-align: right;\n",
       "    }\n",
       "</style>\n",
       "<table border=\"1\" class=\"dataframe\">\n",
       "  <thead>\n",
       "    <tr style=\"text-align: right;\">\n",
       "      <th></th>\n",
       "      <th>Actual</th>\n",
       "      <th>Predicted</th>\n",
       "    </tr>\n",
       "  </thead>\n",
       "  <tbody>\n",
       "    <tr>\n",
       "      <th>62</th>\n",
       "      <td>0</td>\n",
       "      <td>0</td>\n",
       "    </tr>\n",
       "    <tr>\n",
       "      <th>31</th>\n",
       "      <td>0</td>\n",
       "      <td>1</td>\n",
       "    </tr>\n",
       "    <tr>\n",
       "      <th>111</th>\n",
       "      <td>0</td>\n",
       "      <td>0</td>\n",
       "    </tr>\n",
       "    <tr>\n",
       "      <th>2</th>\n",
       "      <td>0</td>\n",
       "      <td>0</td>\n",
       "    </tr>\n",
       "    <tr>\n",
       "      <th>93</th>\n",
       "      <td>0</td>\n",
       "      <td>1</td>\n",
       "    </tr>\n",
       "  </tbody>\n",
       "</table>\n",
       "</div>"
      ],
      "text/plain": [
       "     Actual  Predicted\n",
       "62        0          0\n",
       "31        0          1\n",
       "111       0          0\n",
       "2         0          0\n",
       "93        0          1"
      ]
     },
     "execution_count": 80,
     "metadata": {},
     "output_type": "execute_result"
    }
   ],
   "source": [
    "tuned_preds_df_logreg.head()"
   ]
  },
  {
   "cell_type": "code",
   "execution_count": 81,
   "id": "7c5f1c88",
   "metadata": {},
   "outputs": [
    {
     "data": {
      "text/plain": [
       "0.7647058823529411"
      ]
     },
     "execution_count": 81,
     "metadata": {},
     "output_type": "execute_result"
    }
   ],
   "source": [
    "get_accuracy(tuned_logreg)"
   ]
  },
  {
   "cell_type": "code",
   "execution_count": 82,
   "id": "c217476d",
   "metadata": {},
   "outputs": [
    {
     "data": {
      "text/plain": [
       "(0.7142857142857143, 0.8823529411764706)"
      ]
     },
     "execution_count": 82,
     "metadata": {},
     "output_type": "execute_result"
    }
   ],
   "source": [
    "get_precision_and_recall(tuned_logreg)"
   ]
  },
  {
   "cell_type": "code",
   "execution_count": 83,
   "id": "667e2598",
   "metadata": {},
   "outputs": [
    {
     "data": {
      "text/plain": [
       "(0.7894736842105262,\n",
       " array([[11,  6],\n",
       "        [ 2, 15]], dtype=int64))"
      ]
     },
     "execution_count": 83,
     "metadata": {},
     "output_type": "execute_result"
    }
   ],
   "source": [
    "get_f1_and_conf_mtrx(tuned_logreg)"
   ]
  },
  {
   "cell_type": "code",
   "execution_count": 84,
   "id": "fd8718e2",
   "metadata": {},
   "outputs": [
    {
     "data": {
      "image/png": "[encoded data removed]",
      "text/plain": [
       "<Figure size 640x480 with 2 Axes>"
      ]
     },
     "metadata": {},
     "output_type": "display_data"
    }
   ],
   "source": [
    "f1, conf_mat = get_f1_and_conf_mtrx(tuned_logreg)\n",
    "plt.title(\"Confusion matrix of tuned logistic regression model\")\n",
    "sns.heatmap(conf_mat, annot=True)\n",
    "plt.show()"
   ]
  },
  {
   "cell_type": "markdown",
   "id": "bcf01447",
   "metadata": {},
   "source": [
    "It can be seen, obiviously that the model is doing well after hyperparameter tuning, on all forms of metrics"
   ]
  },
  {
   "cell_type": "markdown",
   "id": "329abc50",
   "metadata": {},
   "source": [
    "##### Hyperparameter tuning for Decison Tree Classifier"
   ]
  },
  {
   "cell_type": "code",
   "execution_count": 85,
   "id": "e4b9012b",
   "metadata": {},
   "outputs": [],
   "source": [
    "#defining a grid search for hyperparameter tuning for a Decison Tree Classifier\n",
    "hyperparam = {\n",
    "              'max_depth':list(range(1,21,4)),\n",
    "              'min_samples_split':[7,2,5,2],\n",
    "              'min_samples_leaf':[4,8,6,8],\n",
    "              'max_features':[None,'log2',None]\n",
    "              }\n",
    "dtc_grid_result = hyper_tune(hyperparam, DecisionTreeClassifier())"
   ]
  },
  {
   "cell_type": "code",
   "execution_count": 86,
   "id": "9ea49f94",
   "metadata": {},
   "outputs": [
    {
     "data": {
      "text/plain": [
       "{'max_depth': 5,\n",
       " 'max_features': None,\n",
       " 'min_samples_leaf': 8,\n",
       " 'min_samples_split': 7}"
      ]
     },
     "execution_count": 86,
     "metadata": {},
     "output_type": "execute_result"
    }
   ],
   "source": [
    "dtc_grid_result.best_params_"
   ]
  },
  {
   "cell_type": "code",
   "execution_count": 87,
   "id": "3d9b8e23",
   "metadata": {},
   "outputs": [],
   "source": [
    "tuned_dtc = DecisionTreeClassifier(max_depth=5, max_features=None, min_samples_leaf=8, min_samples_split=5)\n",
    "tuned_dtc.fit(X_train_norm, y_train)\n",
    "\n",
    "tuned_dtc_preds_df = get_preds_df(tuned_dtc)"
   ]
  },
  {
   "cell_type": "code",
   "execution_count": 88,
   "id": "66681056",
   "metadata": {},
   "outputs": [
    {
     "data": {
      "text/html": [
       "<div>\n",
       "<style scoped>\n",
       "    .dataframe tbody tr th:only-of-type {\n",
       "        vertical-align: middle;\n",
       "    }\n",
       "\n",
       "    .dataframe tbody tr th {\n",
       "        vertical-align: top;\n",
       "    }\n",
       "\n",
       "    .dataframe thead th {\n",
       "        text-align: right;\n",
       "    }\n",
       "</style>\n",
       "<table border=\"1\" class=\"dataframe\">\n",
       "  <thead>\n",
       "    <tr style=\"text-align: right;\">\n",
       "      <th></th>\n",
       "      <th>Actual</th>\n",
       "      <th>Predicted</th>\n",
       "    </tr>\n",
       "  </thead>\n",
       "  <tbody>\n",
       "    <tr>\n",
       "      <th>62</th>\n",
       "      <td>0</td>\n",
       "      <td>0</td>\n",
       "    </tr>\n",
       "    <tr>\n",
       "      <th>31</th>\n",
       "      <td>0</td>\n",
       "      <td>1</td>\n",
       "    </tr>\n",
       "    <tr>\n",
       "      <th>111</th>\n",
       "      <td>0</td>\n",
       "      <td>0</td>\n",
       "    </tr>\n",
       "    <tr>\n",
       "      <th>2</th>\n",
       "      <td>0</td>\n",
       "      <td>0</td>\n",
       "    </tr>\n",
       "    <tr>\n",
       "      <th>93</th>\n",
       "      <td>0</td>\n",
       "      <td>0</td>\n",
       "    </tr>\n",
       "  </tbody>\n",
       "</table>\n",
       "</div>"
      ],
      "text/plain": [
       "     Actual  Predicted\n",
       "62        0          0\n",
       "31        0          1\n",
       "111       0          0\n",
       "2         0          0\n",
       "93        0          0"
      ]
     },
     "execution_count": 88,
     "metadata": {},
     "output_type": "execute_result"
    }
   ],
   "source": [
    "tuned_dtc_preds_df.head()"
   ]
  },
  {
   "cell_type": "code",
   "execution_count": 89,
   "id": "ea3a1c33",
   "metadata": {},
   "outputs": [
    {
     "data": {
      "text/plain": [
       "0.7058823529411765"
      ]
     },
     "execution_count": 89,
     "metadata": {},
     "output_type": "execute_result"
    }
   ],
   "source": [
    "get_accuracy(tuned_dtc)"
   ]
  },
  {
   "cell_type": "code",
   "execution_count": 90,
   "id": "d32a891d",
   "metadata": {},
   "outputs": [
    {
     "data": {
      "text/plain": [
       "(0.6842105263157895, 0.7647058823529411)"
      ]
     },
     "execution_count": 90,
     "metadata": {},
     "output_type": "execute_result"
    }
   ],
   "source": [
    "get_precision_and_recall(tuned_dtc)"
   ]
  },
  {
   "cell_type": "code",
   "execution_count": 91,
   "id": "6da30628",
   "metadata": {},
   "outputs": [
    {
     "data": {
      "text/plain": [
       "(0.7222222222222222,\n",
       " array([[11,  6],\n",
       "        [ 4, 13]], dtype=int64))"
      ]
     },
     "execution_count": 91,
     "metadata": {},
     "output_type": "execute_result"
    }
   ],
   "source": [
    "get_f1_and_conf_mtrx(tuned_dtc)"
   ]
  },
  {
   "cell_type": "code",
   "execution_count": 92,
   "id": "9c0bc2ff",
   "metadata": {},
   "outputs": [
    {
     "data": {
      "image/png": "[encoded data removed]",
      "text/plain": [
       "<Figure size 640x480 with 2 Axes>"
      ]
     },
     "metadata": {},
     "output_type": "display_data"
    }
   ],
   "source": [
    "f1, conf_mat = get_f1_and_conf_mtrx(tuned_dtc)\n",
    "plt.title(\"Confusion matrix of tuned decision tree model\")\n",
    "sns.heatmap(conf_mat, annot=True)\n",
    "plt.show()"
   ]
  },
  {
   "cell_type": "markdown",
   "id": "f4c91d49",
   "metadata": {},
   "source": [
    "I would say this also got better after the hyperparameter tuning, as it has correctly predicted two instances more, correctly than the model before the hyperparameter tuning"
   ]
  },
  {
   "cell_type": "markdown",
   "id": "efa6e73a",
   "metadata": {},
   "source": [
    "# Insights, recommendations and conclusion"
   ]
  },
  {
   "cell_type": "markdown",
   "id": "3fb49dbd",
   "metadata": {},
   "source": [
    "### Insights"
   ]
  },
  {
   "cell_type": "markdown",
   "id": "7d4ef89b",
   "metadata": {},
   "source": [
    "The following insights can be derived from the whole analysis and model building\n",
    "* There are exactly 136 data points in the dataset\n",
    "* There are exactly 19 features in the data set but we eventually used only 16 of them (target column inclusive)\n",
    "* The other columns (features) were dropped due to reasons that include, but not limited to, uniqueness, irrelevance to the analysis and model buiding\n",
    "* The dataset has no null value, so none of the rows(datapoints) were dropped\n",
    "* The problem being looked into is a binary classification problem (meaning, preiction on two distinct classes)\n",
    "* The dataset is small and does not really provide enough information about the whole situation. But, half bread, they say is better than none\n",
    "* The dataset was further sub-divided into three parts (training data, validation data and testing data)\n",
    "* Without standard scaling, the models would not have done so well. So, standard scaling was introduced\n",
    "* The logistic Regression model got the following value on the evaluated metrics:\n",
    "    * 0.6765 for the accuracy\n",
    "    * (0.65, 0.7647) for precision and recall\n",
    "    * 0.7027 for f1 score\n",
    "* The decision tree model got the following value on the evaluated metrics:\n",
    "    * 0.7059 for the accuracy\n",
    "    * (0.7059, 0.7059) for precision and recall\n",
    "    * 0.6667 for f1 score\n",
    "* The Neural network model got the following value on the evaluated metrics:\n",
    "    * 0.714 for the accuracy\n",
    "    * (0.8, 0.57) for precision and recall\n",
    "    * 0.6667 for f1 score\n",
    "* In the logistic regression model, the most important feature was `competition score` and the least important is `clearance space`\n",
    "* In the decision tree model, the most important feature was also the `competition score` and the least important cannot be easily given to any of the other features as three features `(store age, window and floor space)` all got 0 as their `score of importance`\n",
    "* Another metric to take note of is the confusion matrix, it is a measure used in classification problems to see how well a model is predicting each class correctly\n",
    "    * As we can see, it has four sections, namely: TP (true positive), TN (true negative), FP (false positive) and FN (false negative).\n",
    "    * The main diagonal from the top left corner down to the bottom right corner contains the correctly classes\n",
    "    * The remaining two sections contains the mis-classified ones\n",
    "* A heatmap from the seaborn module was used to visualize our confusion matrix"
   ]
  },
  {
   "cell_type": "markdown",
   "id": "0f4a8149",
   "metadata": {},
   "source": [
    "### Recommendations"
   ]
  },
  {
   "cell_type": "markdown",
   "id": "df19fc09",
   "metadata": {},
   "source": [
    "* All features are important, however, the shop owner must be concerned about the competition score as it weight the most in both models\n",
    "* The Logistic regression model is the better performing model, this makes it evident that the linear relationship in the data is quite good, especially the tuned logistic regression model\n",
    "* I do not recommend using the neural network model as it is prone to overfitting (most likely due to the small size of the data)\n",
    "* The most important metrics to look after is the f1 score and confusion matrix (both)\n",
    "* I would recommend that the shop owner obtain more data about the store\n",
    "* The things I would recommend they look into is the quality score of product (as compared to the best performing store, or the better performing ones), average income of people living in each of those towns, rather than just the names of the towns"
   ]
  },
  {
   "cell_type": "markdown",
   "id": "905f836f",
   "metadata": {},
   "source": [
    "### Conclusion"
   ]
  },
  {
   "cell_type": "markdown",
   "id": "01715c1f",
   "metadata": {},
   "source": [
    "In general, the machine learning models are not doing so well with the dataset as the size is small, but it is still a very good measure of tracking the performance of each of the stores"
   ]
  }
 ],
 "metadata": {
  "kernelspec": {
   "display_name": "Python 3 (ipykernel)",
   "language": "python",
   "name": "python3"
  },
  "language_info": {
   "codemirror_mode": {
    "name": "ipython",
    "version": 3
   },
   "file_extension": ".py",
   "mimetype": "text/x-python",
   "name": "python",
   "nbconvert_exporter": "python",
   "pygments_lexer": "ipython3",
   "version": "3.9.13"
  }
 },
 "nbformat": 4,
 "nbformat_minor": 5
}
